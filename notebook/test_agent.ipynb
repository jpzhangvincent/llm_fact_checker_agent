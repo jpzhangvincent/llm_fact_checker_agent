{
 "cells": [
  {
   "cell_type": "code",
   "execution_count": 1,
   "metadata": {},
   "outputs": [],
   "source": [
    "from langgraph_sdk import get_client"
   ]
  },
  {
   "cell_type": "code",
   "execution_count": 2,
   "metadata": {},
   "outputs": [],
   "source": [
    "client = get_client(url=\"http://localhost:8123\")"
   ]
  },
  {
   "cell_type": "markdown",
   "metadata": {},
   "source": [
    "# Fact checking -> Factualness score"
   ]
  },
  {
   "cell_type": "code",
   "execution_count": 9,
   "metadata": {},
   "outputs": [],
   "source": [
    "#topic = \"Top 5 chip providers for LLM Training\"\n",
    "topic = \"Fact checking the Trump's claim: people are eating the dogs and cats in Springfield\""
   ]
  },
  {
   "cell_type": "code",
   "execution_count": 21,
   "metadata": {},
   "outputs": [],
   "source": [
    "schema = {\n",
    "    \"type\": \"object\",\n",
    "    \"properties\": {\n",
    "        \"references\": {\n",
    "            \"type\": \"array\",\n",
    "            \"items\": {\n",
    "                \"type\": \"object\",\n",
    "                \"properties\": {\n",
    "                    \"title\": {\"type\": \"string\", \"description\": \"title name of the article\"},\n",
    "                    \"url\": {\n",
    "                        \"type\": \"string\",\n",
    "                        \"description\": \"url link to the news article\",\n",
    "                    },\n",
    "                    \"news_source_trustworthy_score\": {\n",
    "                        \"type\": \"number\",\n",
    "                        \"description\": \"0 to 1 score in terms of whether the news source is trustworthy in general\",\n",
    "                    },\n",
    "                    \"support_claim\": {\n",
    "                        \"type\": \"boolean\",\n",
    "                        \"description\": \"boolean value to indicate whether the news article support the claim\",\n",
    "                    },\n",
    "                },\n",
    "                \"required\": [\"title\", \"url\", \"news_source_trustworthy_score\", \"support_claim\"],\n",
    "            },\n",
    "            \"description\": \"List of references\",\n",
    "        },\n",
    "        \"factualness_score\": {\n",
    "            \"type\": \"number\",\n",
    "            \"description\": \"0 to 1 score in terms of factualness based on the references from research above\"\n",
    "        }\n",
    "    },\n",
    "    \"required\": [\"references\", \"factualness_score\"],\n",
    "}"
   ]
  },
  {
   "cell_type": "code",
   "execution_count": 11,
   "metadata": {},
   "outputs": [
    {
     "name": "stdout",
     "output_type": "stream",
     "text": [
      "=========================\n",
      "=========================\n",
      "content='' additional_kwargs={'additional_kwargs': {'tool_calls': [{'id': 'call_tu04dPECbqjZv2G36M6Nknjb', 'function': {'arguments': '{\"query\":\"Trump claim people eating dogs cats Springfield fact check\"}', 'name': 'search'}, 'type': 'function', 'index': 0}], 'refusal': None}, 'response_metadata': {'token_usage': {'completion_tokens': 19, 'prompt_tokens': 618, 'total_tokens': 637, 'completion_tokens_details': None}, 'model_name': 'openai/gpt-4o-mini-2024-07-18', 'system_fingerprint': 'fp_1bb46167f9', 'finish_reason': 'tool_calls', 'logprobs': None}, 'example': False, 'invalid_tool_calls': [], 'usage_metadata': {'input_tokens': 618, 'output_tokens': 19, 'total_tokens': 637}} response_metadata={} id='run-3d22a261-6e64-4ace-b768-75722ba68ca3-0' tool_calls=[{'name': 'search', 'args': {'query': 'Trump claim people eating dogs cats Springfield fact check'}, 'id': 'call_tu04dPECbqjZv2G36M6Nknjb', 'type': 'tool_call'}]\n",
      "=========================\n",
      "content='[{\"url\": \"https://www.newsweek.com/donald-trump-cats-dogs-claim-debate-video-fact-check-election-2024-1952779\", \"content\": \"Fact Check: Trump Shares Misleading Video About Animal Abuse After Debate - Newsweek Fact Check: Trump Shares Misleading Video About Animal Abuse After Debate A lot of the coverage following Tuesday night\\'s debate between Donald Trump and Kamala Harris has scrutinized his baseless assertion that Haitian immigrants were eating cats and dogs in Springfield, Ohio. Truth Social user @GeneralMCNews, whose content Trump shared, has posted other misleading material, including conspiratorial claims about COVID-19, one of which Newsweek debunked earlier this week. Although the incident in the video did take place in Ohio and the video Trump shared does not specifically identify Springfield or Canton, it is misleading in the context of his comments from the debate in which he mentioned Springfield.\"}, {\"url\": \"https://news.yahoo.com/news/truth-springfield-ohio-immigrants-eating-182913769.html\", \"content\": \"1. The claim was repeated by former President Donald Trump during Tuesday\\'s presidential debate. \\\\\"In Springfield, they\\'re eating the dogs, the people that came in,\\\\\" Trump said. \\\\\"They\\'re eating the cats. They\\'re eating the pets of the people that live there. This is what\\'s happening in our country, and it\\'s a shame.\\\\\"\"}, {\"url\": \"https://www.economist.com/the-economist-explains/2024/09/11/donald-trump-says-immigrants-are-eating-springfields-pets-what\", \"content\": \"Donald Trump says immigrants are eating Springfield’s pets. The world in brief Business & economics A-Z of economics My Economist Donald Trump says immigrants are eating Springfield’s pets. WHEN DONALD TRUMP uttered the word “Springfield” 33 minutes into the American presidential debate on September 10th, David Muir, the co-moderator, was prepared. In that small Ohio town, Mr Trump declared, illegal immigrants are “eating the dogs, they’re eating the cats, they’re eating the pets of the people who live there”. But lots of Mr Trump’s fans were primed for it: the allegation had been circulating in right-wing circles on social media, boosted by Elon Musk, the owner of X. Will the debate between Kamala Harris and Donald Trump matter? The Economist\"}, {\"url\": \"https://www.dispatch.com/story/news/2024/09/11/truth-fact-check-people-eating-dogs-springfield-ohio-trump-vance-harris-debate/75171964007/\", \"content\": \"The truth about Springfield, Ohio: Are immigrants eating dogs as Trump says? The city manager released a statement saying there\\'s no evidence of any cats or other pets being harmed or eaten by the Haitian immigrants. With Springfield in the spotlight amid misinformation about immigrants eating pets and wild geese, how are residents and the local Haitian population managing? It\\'s being used as proof by right-wing figures\\xa0falsely claiming\\xa0that Haitian immigrants in Springfield, Ohio, are eating pets and wildlife. Likewise, video posted on YouTube\\xa0by the \\\\\"Fake News Network\\\\\" that is titled \\\\\"Haitian Woman Eats Neighbour\\'s Cat in Springfield\\\\\" falsely claims to show police officers confronting a Haitian woman in Springfield about eating a cat, The Canton Repository reports.\"}, {\"url\": \"https://www.usatoday.com/story/news/politics/elections/2024/09/11/canton-woman-accused-of-eating-cat-not-haitian-from-springfield-ohio/75183732007/\", \"content\": \"Despite Springfield\\'s efforts to debunk the pet-eating rumors, Trump continued to spread the false narrative about immigrants eating cats and dogs. \\\\\"They\\'re eating the dogs! The people that ...\"}, {\"url\": \"https://www.politifact.com/factchecks/2024/sep/11/donald-trump/trump-repeats-baseless-claims-that-haitian-immigra/\", \"content\": \"Trump repeats baseless claims that Haitian immigrants in Springfield, Ohio, are eating pets A Springfield, Ohio, city spokesperson, the mayor and city police all said claims that Haitian immigrants are stealing and eating residents’ pets are unfounded. 10 debate with Vice President Kamala Harris repeated a debunked claim that Haitian immigrants were eating people’s pets in Springfield, Ohio. Trump said that in Springfield, Ohio, Haitian immigrants are \\\\\"eating the pets of the people that live there.\\\\\" He doubled down on the claim\\xa0after being corrected by debate moderator David Muir, despite multiple news outlets debunking the claim a day earlier and against the backdrop of rebuttals from Springfield city officials. Trump repeats baseless claims that Haitian immigrants in Springfield, Ohio, are eating pets\"}, {\"url\": \"https://www.nytimes.com/2024/09/10/us/politics/trump-debate-immigrants-pets.html\", \"content\": \"Former President Donald J. Trump repeated a false and outlandish claim that Haitian immigrants in Springfield, Ohio, have abducted and eaten their neighbors\\' pets. Mr. Trump made the comments on ...\"}, {\"url\": \"https://www.bbc.com/news/articles/cgjv3gdxv7go\", \"content\": \"Trump\\'s comment followed a baseless claim - which was shared by his vice-presidential candidate JD Vance - that immigrants from Haiti who have recently settled in Springfield, Ohio, have been eating pets. CLAIM: Harris: “Donald Trump left us the worst unemployment since the Great Depression”. CLAIM: Harris: \\\\\"If Donald Trump were to be re-elected, he will sign a national abortion ban\\\\\". CLAIM: Trump: “The worst inflation we\\'ve ever had\\\\\" [was under Biden]. CLAIM: Harris: \\\\\"Economists have said that that Trump sales tax would actually result for middle class families in about $4,000 more a year\\\\\". Trump repeats baseless claim about Haitian immigrants eating pets  Donald Trump claimed immigrants in a small Ohio city were eating pets, but there’s no proof of this.\"}, {\"url\": \"https://www.washingtonpost.com/politics/2024/09/10/trump-immigrants-eating-dogs-springfield-ohio-fact-check/\", \"content\": \"On the debate stage Tuesday, Donald Trump doubled down on baseless and dehumanizing claims pushed by his running mate that immigrants in Springfield, Ohio, are stealing and eating pets. Former ...\"}, {\"url\": \"https://www.politifact.com/factchecks/2024/sep/09/social-media/authorities-rebut-claims-that-haitian-immigrants-a/\", \"content\": \"Claims are unfounded that Haitian immigrants in Springfield, Ohio, are stealing neighbors’ pets to eat, and killing ducks and geese for food, a city spokesperson told PolitiFact. Another X post shared a video of what it said was a Haitian immigrant eating a neighbor’s dead cat. The claim that Haitian immigrants are eating wildlife and pets in Springfield was also widely shared by conservative influencers such as Charlie Kirk and X owner Elon Musk, and political entities and figures including the House Judiciary Committee and vice presidential candidate Sen. JD Vance, R-Ohio. In the social media posts sharing the claim, the screenshot of a warning to neighbors appears to come from Springfield Ohio Crime & Information, a private Facebook group. Social media posts claim that pets and wildlife in Springfield, Ohio, are being eaten by Haitian immigrants.\"}]' name='search' id='516b7d9f-7f42-4b7f-b9fb-da73fdc33af0' tool_call_id='call_tu04dPECbqjZv2G36M6Nknjb'\n",
      "=========================\n",
      "content='' additional_kwargs={'additional_kwargs': {'tool_calls': [{'id': 'call_ibWlBjqVbaG8IK4OiTSY2r93', 'function': {'arguments': '{\"url\": \"https://www.newsweek.com/donald-trump-cats-dogs-claim-debate-video-fact-check-election-2024-1952779\"}', 'name': 'scrape_website'}, 'type': 'function', 'index': 0}, {'id': 'call_SSzrpxxSiQ1GKCgxcSJ7F3n8', 'function': {'arguments': '{\"url\": \"https://news.yahoo.com/news/truth-springfield-ohio-immigrants-eating-182913769.html\"}', 'name': 'scrape_website'}, 'type': 'function', 'index': 1}, {'id': 'call_CbCqjwigK5n7zVUeprZwK53Z', 'function': {'arguments': '{\"url\": \"https://www.economist.com/the-economist-explains/2024/09/11/donald-trump-says-immigrants-are-eating-springfields-pets-what\"}', 'name': 'scrape_website'}, 'type': 'function', 'index': 2}, {'id': 'call_9eCcFcLqJV9tvvNYZ4l2tyYJ', 'function': {'arguments': '{\"url\": \"https://www.dispatch.com/story/news/2024/09/11/truth-fact-check-people-eating-dogs-springfield-ohio-trump-vance-harris-debate/75171964007/\"}', 'name': 'scrape_website'}, 'type': 'function', 'index': 3}, {'id': 'call_sxMM6bXiTAXSTUlx9Ckm9fU5', 'function': {'arguments': '{\"url\": \"https://www.usatoday.com/story/news/politics/elections/2024/09/11/canton-woman-accused-of-eating-cat-not-haitian-from-springfield-ohio/75183732007/\"}', 'name': 'scrape_website'}, 'type': 'function', 'index': 4}, {'id': 'call_oXG6oszrhELHLAb6OWsLbUGM', 'function': {'arguments': '{\"url\": \"https://www.politifact.com/factchecks/2024/sep/11/donald-trump/trump-repeats-baseless-claims-that-haitian-immigra/\"}', 'name': 'scrape_website'}, 'type': 'function', 'index': 5}, {'id': 'call_rMsMJSZSfTcWMruAmKdqapYz', 'function': {'arguments': '{\"url\": \"https://www.nytimes.com/2024/09/10/us/politics/trump-debate-immigrants-pets.html\"}', 'name': 'scrape_website'}, 'type': 'function', 'index': 6}, {'id': 'call_2yBoDQpk0n3oDRpUsacP0Zmb', 'function': {'arguments': '{\"url\": \"https://www.bbc.com/news/articles/cgjv3gdxv7go\"}', 'name': 'scrape_website'}, 'type': 'function', 'index': 7}, {'id': 'call_lmJeXQ5vd9FWuHT6YOXLnlSs', 'function': {'arguments': '{\"url\": \"https://www.washingtonpost.com/politics/2024/09/10/trump-immigrants-eating-dogs-springfield-ohio-fact-check/\"}', 'name': 'scrape_website'}, 'type': 'function', 'index': 8}], 'refusal': None}, 'response_metadata': {'token_usage': {'completion_tokens': 462, 'prompt_tokens': 2206, 'total_tokens': 2668, 'completion_tokens_details': None}, 'model_name': 'openai/gpt-4o-mini-2024-07-18', 'system_fingerprint': 'fp_1bb46167f9', 'finish_reason': 'tool_calls', 'logprobs': None}, 'example': False, 'invalid_tool_calls': [], 'usage_metadata': {'input_tokens': 2206, 'output_tokens': 462, 'total_tokens': 2668}} response_metadata={} id='run-87a9e12f-d524-4b92-a9a0-b30635667b81-0' tool_calls=[{'name': 'scrape_website', 'args': {'url': 'https://www.newsweek.com/donald-trump-cats-dogs-claim-debate-video-fact-check-election-2024-1952779'}, 'id': 'call_ibWlBjqVbaG8IK4OiTSY2r93', 'type': 'tool_call'}, {'name': 'scrape_website', 'args': {'url': 'https://news.yahoo.com/news/truth-springfield-ohio-immigrants-eating-182913769.html'}, 'id': 'call_SSzrpxxSiQ1GKCgxcSJ7F3n8', 'type': 'tool_call'}, {'name': 'scrape_website', 'args': {'url': 'https://www.economist.com/the-economist-explains/2024/09/11/donald-trump-says-immigrants-are-eating-springfields-pets-what'}, 'id': 'call_CbCqjwigK5n7zVUeprZwK53Z', 'type': 'tool_call'}, {'name': 'scrape_website', 'args': {'url': 'https://www.dispatch.com/story/news/2024/09/11/truth-fact-check-people-eating-dogs-springfield-ohio-trump-vance-harris-debate/75171964007/'}, 'id': 'call_9eCcFcLqJV9tvvNYZ4l2tyYJ', 'type': 'tool_call'}, {'name': 'scrape_website', 'args': {'url': 'https://www.usatoday.com/story/news/politics/elections/2024/09/11/canton-woman-accused-of-eating-cat-not-haitian-from-springfield-ohio/75183732007/'}, 'id': 'call_sxMM6bXiTAXSTUlx9Ckm9fU5', 'type': 'tool_call'}, {'name': 'scrape_website', 'args': {'url': 'https://www.politifact.com/factchecks/2024/sep/11/donald-trump/trump-repeats-baseless-claims-that-haitian-immigra/'}, 'id': 'call_oXG6oszrhELHLAb6OWsLbUGM', 'type': 'tool_call'}, {'name': 'scrape_website', 'args': {'url': 'https://www.nytimes.com/2024/09/10/us/politics/trump-debate-immigrants-pets.html'}, 'id': 'call_rMsMJSZSfTcWMruAmKdqapYz', 'type': 'tool_call'}, {'name': 'scrape_website', 'args': {'url': 'https://www.bbc.com/news/articles/cgjv3gdxv7go'}, 'id': 'call_2yBoDQpk0n3oDRpUsacP0Zmb', 'type': 'tool_call'}, {'name': 'scrape_website', 'args': {'url': 'https://www.washingtonpost.com/politics/2024/09/10/trump-immigrants-eating-dogs-springfield-ohio-fact-check/'}, 'id': 'call_lmJeXQ5vd9FWuHT6YOXLnlSs', 'type': 'tool_call'}]\n",
      "=========================\n",
      "content='Here are the key points extracted from the Washington Post article titled \"Trump pushes false claims about migrants eating dogs in Springfield, Ohio\":\\n\\n### Article Overview\\n- **Title**: Trump pushes false claims about migrants eating dogs in Springfield, Ohio\\n- **Authors**: Amy B Wang, Mariana Alfaro\\n- **Publication Date**: September 11, 2024\\n- **Last Updated**: September 12, 2024\\n- **URL**: [Washington Post Article](https://www.washingtonpost.com/politics/2024/09/10/trump-immigrants-eating-dogs-springfield-ohio-fact-check/)\\n- **Section**: Politics\\n- **Word Count**: 1,045\\n\\n### Content Summary\\n- The article fact-checks claims made by Donald Trump regarding immigrants in Springfield, Ohio, allegedly stealing and consuming pets.\\n- It emphasizes that these claims are baseless and dehumanizing, reinforcing negative stereotypes about immigrants.\\n\\n### Key Details\\n- **Claim Supported**: The article supports the claim that Trump\\'s assertions about migrants eating dogs are false.\\n- **Trustworthy Source**: The Washington Post is generally regarded as a reputable news source, contributing to its high trustworthiness score.\\n\\n### Metadata\\n- **Description**: The article discusses Trump\\'s remarks on a debate stage where he reiterated unfounded and offensive claims about immigrants.\\n- **Image**: The article includes a relevant image, which likely depicts related content or themes.\\n\\n### Additional Information\\n- The article is part of the Washington Post\\'s metered content, meaning it may require a subscription for full access.\\n- It provides a critical perspective on political rhetoric and its implications for public perception of immigrants.\\n\\nThese notes summarize the content and context of the article, highlighting its focus on fact-checking and the implications of political discourse.' name='scrape_website' id='e6f0a6fa-3f46-4267-ab6f-1f6b72df2ceb' tool_call_id='call_lmJeXQ5vd9FWuHT6YOXLnlSs'\n",
      "=========================\n",
      "content='' additional_kwargs={'additional_kwargs': {'tool_calls': [{'id': 'call_DuEuu5IGA1lRsd5S5KXukJdR', 'function': {'arguments': '{\"references\":[{\"url\":\"https://news.yahoo.com/news/truth-springfield-ohio-immigrants-eating-182913769.html\",\"title\":\"The truth about Springfield, Ohio: Are immigrants eating dogs as Trump says? What to know\",\"support_claim\":false,\"news_source_trustworthy_score\":0.8},{\"url\":\"https://www.economist.com/the-economist-explains/2024/09/11/donald-trump-says-immigrants-are-eating-springfields-pets-what\",\"title\":\"Donald Trump says immigrants are eating Springfield’s pets. What?\",\"support_claim\":false,\"news_source_trustworthy_score\":0.9},{\"url\":\"https://www.dispatch.com/story/news/2024/09/11/truth-fact-check-people-eating-dogs-springfield-ohio-trump-vance-harris-debate/75171964007/\",\"title\":\"Fact check: Are people eating dogs in Springfield, Ohio, as Trump says?\",\"support_claim\":false,\"news_source_trustworthy_score\":0.7},{\"url\":\"https://www.usatoday.com/story/news/politics/elections/2024/09/11/canton-woman-accused-of-eating-cat-not-haitian-from-springfield-ohio/75183732007/\",\"title\":\"Ohio woman accused of killing, eating cat is American, not Haitian\",\"support_claim\":false,\"news_source_trustworthy_score\":0.8},{\"url\":\"https://www.politifact.com/factchecks/2024/sep/11/donald-trump/trump-repeats-baseless-claims-that-haitian-immigra/\",\"title\":\"Trump repeats baseless claims that Haitian immigrants in Springfield, Ohio, are eating pets\",\"support_claim\":false,\"news_source_trustworthy_score\":0.9},{\"url\":\"https://www.nytimes.com/2024/09/10/us/politics/trump-debate-immigrants-pets.html\",\"title\":\"Trump repeats false and outlandish claim that Haitian immigrants are eating pets\",\"support_claim\":false,\"news_source_trustworthy_score\":0.9},{\"url\":\"https://www.bbc.com/news/articles/cgjv3gdxv7go\",\"title\":\"Key claims from the Trump-Harris debate fact-checked\",\"support_claim\":false,\"news_source_trustworthy_score\":0.9},{\"url\":\"https://www.washingtonpost.com/politics/2024/09/10/trump-immigrants-eating-dogs-springfield-ohio-fact-check/\",\"title\":\"Trump pushes false claims about migrants eating dogs in Springfield, Ohio\",\"support_claim\":false,\"news_source_trustworthy_score\":0.9}],\"factualness_score\":0}', 'name': 'Info'}, 'type': 'function', 'index': 0}], 'refusal': None}, 'response_metadata': {'token_usage': {'completion_tokens': 588, 'prompt_tokens': 6199, 'total_tokens': 6787, 'completion_tokens_details': None}, 'model_name': 'openai/gpt-4o-mini-2024-07-18', 'system_fingerprint': 'fp_1bb46167f9', 'finish_reason': 'tool_calls', 'logprobs': None}, 'example': False, 'invalid_tool_calls': [], 'usage_metadata': {'input_tokens': 6199, 'output_tokens': 588, 'total_tokens': 6787}} response_metadata={} id='run-fb6fe71d-2252-4d6f-a589-39e269716e17-0' tool_calls=[{'name': 'Info', 'args': {'references': [{'url': 'https://news.yahoo.com/news/truth-springfield-ohio-immigrants-eating-182913769.html', 'title': 'The truth about Springfield, Ohio: Are immigrants eating dogs as Trump says? What to know', 'support_claim': False, 'news_source_trustworthy_score': 0.8}, {'url': 'https://www.economist.com/the-economist-explains/2024/09/11/donald-trump-says-immigrants-are-eating-springfields-pets-what', 'title': 'Donald Trump says immigrants are eating Springfield’s pets. What?', 'support_claim': False, 'news_source_trustworthy_score': 0.9}, {'url': 'https://www.dispatch.com/story/news/2024/09/11/truth-fact-check-people-eating-dogs-springfield-ohio-trump-vance-harris-debate/75171964007/', 'title': 'Fact check: Are people eating dogs in Springfield, Ohio, as Trump says?', 'support_claim': False, 'news_source_trustworthy_score': 0.7}, {'url': 'https://www.usatoday.com/story/news/politics/elections/2024/09/11/canton-woman-accused-of-eating-cat-not-haitian-from-springfield-ohio/75183732007/', 'title': 'Ohio woman accused of killing, eating cat is American, not Haitian', 'support_claim': False, 'news_source_trustworthy_score': 0.8}, {'url': 'https://www.politifact.com/factchecks/2024/sep/11/donald-trump/trump-repeats-baseless-claims-that-haitian-immigra/', 'title': 'Trump repeats baseless claims that Haitian immigrants in Springfield, Ohio, are eating pets', 'support_claim': False, 'news_source_trustworthy_score': 0.9}, {'url': 'https://www.nytimes.com/2024/09/10/us/politics/trump-debate-immigrants-pets.html', 'title': 'Trump repeats false and outlandish claim that Haitian immigrants are eating pets', 'support_claim': False, 'news_source_trustworthy_score': 0.9}, {'url': 'https://www.bbc.com/news/articles/cgjv3gdxv7go', 'title': 'Key claims from the Trump-Harris debate fact-checked', 'support_claim': False, 'news_source_trustworthy_score': 0.9}, {'url': 'https://www.washingtonpost.com/politics/2024/09/10/trump-immigrants-eating-dogs-springfield-ohio-fact-check/', 'title': 'Trump pushes false claims about migrants eating dogs in Springfield, Ohio', 'support_claim': False, 'news_source_trustworthy_score': 0.9}], 'factualness_score': 0}, 'id': 'call_DuEuu5IGA1lRsd5S5KXukJdR', 'type': 'tool_call'}]\n",
      "=========================\n",
      "content=\"The provided references all indicate that the claims made by Trump regarding immigrants eating pets in Springfield, Ohio, are false, thereby aligning with the user's request for fact-checking the claim.\\nThe sources included are generally considered trustworthy, with scores between 0.7 and 0.9, which reinforces the credibility of the information presented.\\nThe information is comprehensive, covering multiple reputable sources that provide a consistent narrative debunking the claim.\" name='Info' id='88739f51-84e0-40ed-88fd-efe06cb29120' tool_call_id='call_DuEuu5IGA1lRsd5S5KXukJdR'\n",
      "=========================\n"
     ]
    }
   ],
   "source": [
    "from langchain_core.messages import convert_to_messages\n",
    "\n",
    "# Thread\n",
    "thread = await client.threads.create()\n",
    "\n",
    "# Model\n",
    "#llm = \"anthropic/claude-3-5-sonnet-20240620\"\n",
    "llm = \"openai/gpt-4o\"\n",
    "\n",
    "# Stream\n",
    "async for event in client.runs.stream(\n",
    "    thread[\"thread_id\"],\n",
    "    assistant_id=\"agent\",\n",
    "    input={\n",
    "        \"topic\": topic,\n",
    "        \"extraction_schema\": schema,\n",
    "        \"configurable\": {\"model_name\": llm},\n",
    "    },\n",
    "    stream_mode=\"values\",\n",
    "):\n",
    "    messages = event.data.get(\"messages\", None)\n",
    "    if messages:\n",
    "        print(convert_to_messages(messages)[-1])\n",
    "    print(\"=\" * 25)"
   ]
  },
  {
   "cell_type": "code",
   "execution_count": 14,
   "metadata": {},
   "outputs": [],
   "source": [
    "current_state = await client.threads.get_state(thread[\"thread_id\"])"
   ]
  },
  {
   "cell_type": "code",
   "execution_count": 15,
   "metadata": {},
   "outputs": [],
   "source": [
    "from IPython.display import Markdown, display\n",
    "\n",
    "\n",
    "# def format_llm_chip_info(data):\n",
    "#     markdown_text = \"# Top 5 Chip Providers for LLM Training\\n\\n\"\n",
    "\n",
    "#     for company in data[\"companies\"]:\n",
    "#         markdown_text += f\"\"\"\n",
    "# ## {company['name']}\n",
    "\n",
    "# **Key Technologies:** {company['technologies']}\n",
    "\n",
    "# **Market Share:** {company['market_share']}\n",
    "\n",
    "# **Key Powers:** {company.get('key_powers', 'Not specified')}\n",
    "\n",
    "# **Future Outlook:** {company['future_outlook']}\n",
    "\n",
    "# ---\n",
    "# \"\"\"\n",
    "\n",
    "#     return Markdown(markdown_text)\n",
    "\n",
    "\n",
    "# # Display the formatted markdown\n",
    "# display(format_llm_chip_info(current_state[\"values\"][\"info\"]))"
   ]
  },
  {
   "cell_type": "code",
   "execution_count": 16,
   "metadata": {},
   "outputs": [
    {
     "data": {
      "text/plain": [
       "{'references': [{'url': 'https://news.yahoo.com/news/truth-springfield-ohio-immigrants-eating-182913769.html',\n",
       "   'title': 'The truth about Springfield, Ohio: Are immigrants eating dogs as Trump says? What to know',\n",
       "   'support_claim': False,\n",
       "   'news_source_trustworthy_score': 0.8},\n",
       "  {'url': 'https://www.economist.com/the-economist-explains/2024/09/11/donald-trump-says-immigrants-are-eating-springfields-pets-what',\n",
       "   'title': 'Donald Trump says immigrants are eating Springfield’s pets. What?',\n",
       "   'support_claim': False,\n",
       "   'news_source_trustworthy_score': 0.9},\n",
       "  {'url': 'https://www.dispatch.com/story/news/2024/09/11/truth-fact-check-people-eating-dogs-springfield-ohio-trump-vance-harris-debate/75171964007/',\n",
       "   'title': 'Fact check: Are people eating dogs in Springfield, Ohio, as Trump says?',\n",
       "   'support_claim': False,\n",
       "   'news_source_trustworthy_score': 0.7},\n",
       "  {'url': 'https://www.usatoday.com/story/news/politics/elections/2024/09/11/canton-woman-accused-of-eating-cat-not-haitian-from-springfield-ohio/75183732007/',\n",
       "   'title': 'Ohio woman accused of killing, eating cat is American, not Haitian',\n",
       "   'support_claim': False,\n",
       "   'news_source_trustworthy_score': 0.8},\n",
       "  {'url': 'https://www.politifact.com/factchecks/2024/sep/11/donald-trump/trump-repeats-baseless-claims-that-haitian-immigra/',\n",
       "   'title': 'Trump repeats baseless claims that Haitian immigrants in Springfield, Ohio, are eating pets',\n",
       "   'support_claim': False,\n",
       "   'news_source_trustworthy_score': 0.9},\n",
       "  {'url': 'https://www.nytimes.com/2024/09/10/us/politics/trump-debate-immigrants-pets.html',\n",
       "   'title': 'Trump repeats false and outlandish claim that Haitian immigrants are eating pets',\n",
       "   'support_claim': False,\n",
       "   'news_source_trustworthy_score': 0.9},\n",
       "  {'url': 'https://www.bbc.com/news/articles/cgjv3gdxv7go',\n",
       "   'title': 'Key claims from the Trump-Harris debate fact-checked',\n",
       "   'support_claim': False,\n",
       "   'news_source_trustworthy_score': 0.9},\n",
       "  {'url': 'https://www.washingtonpost.com/politics/2024/09/10/trump-immigrants-eating-dogs-springfield-ohio-fact-check/',\n",
       "   'title': 'Trump pushes false claims about migrants eating dogs in Springfield, Ohio',\n",
       "   'support_claim': False,\n",
       "   'news_source_trustworthy_score': 0.9}],\n",
       " 'factualness_score': 0}"
      ]
     },
     "execution_count": 16,
     "metadata": {},
     "output_type": "execute_result"
    }
   ],
   "source": [
    "current_state[\"values\"][\"info\"]"
   ]
  },
  {
   "cell_type": "markdown",
   "metadata": {},
   "source": [
    "# Generate sythetic data "
   ]
  },
  {
   "cell_type": "code",
   "execution_count": 17,
   "metadata": {},
   "outputs": [],
   "source": [
    "from langchain_experimental.synthetic_data import (\n",
    "    DatasetGenerator,\n",
    "    create_data_generation_chain,\n",
    ")\n",
    "from langchain_openai import ChatOpenAI"
   ]
  },
  {
   "cell_type": "code",
   "execution_count": 18,
   "metadata": {},
   "outputs": [],
   "source": [
    "# LLM\n",
    "model = ChatOpenAI(model=\"gpt-3.5-turbo\", temperature=0.7)\n",
    "chain = create_data_generation_chain(model)"
   ]
  },
  {
   "cell_type": "code",
   "execution_count": 19,
   "metadata": {},
   "outputs": [
    {
     "name": "stderr",
     "output_type": "stream",
     "text": [
      "/var/folders/32/jf8_rcxd7w32wq06xqbmtv180000gn/T/ipykernel_71732/3027260992.py:1: LangChainDeprecationWarning: The method `Chain.__call__` was deprecated in langchain 0.1.0 and will be removed in 1.0. Use :meth:`~invoke` instead.\n",
      "  chain(\n"
     ]
    },
    {
     "data": {
      "text/plain": [
       "{'fields': {'colors': ['blue', 'yellow']},\n",
       " 'preferences': {'style': 'Make it in a style of a weather forecast.'},\n",
       " 'text': 'The skies will be a vibrant display of blue and yellow hues today, a picturesque blend reminiscent of a beautiful sunrise over the ocean in the style of a weather forecast.'}"
      ]
     },
     "execution_count": 19,
     "metadata": {},
     "output_type": "execute_result"
    }
   ],
   "source": [
    "chain(\n",
    "    {\n",
    "        \"fields\": {\"colors\": [\"blue\", \"yellow\"]},\n",
    "        \"preferences\": {\"style\": \"Make it in a style of a weather forecast.\"},\n",
    "    }\n",
    ")"
   ]
  },
  {
   "cell_type": "code",
   "execution_count": 22,
   "metadata": {},
   "outputs": [
    {
     "data": {
      "text/plain": [
       "{'fields': {'type': 'object',\n",
       "  'properties': {'references': {'type': 'array',\n",
       "    'items': {'type': 'object',\n",
       "     'properties': {'title': {'type': 'string',\n",
       "       'description': 'title name of the article'},\n",
       "      'url': {'type': 'string', 'description': 'url link to the news article'},\n",
       "      'news_source_trustworthy_score': {'type': 'number',\n",
       "       'description': '0 to 1 score in terms of whether the news source is trustworthy in general'},\n",
       "      'support_claim': {'type': 'boolean',\n",
       "       'description': 'boolean value to indicate whether the news article support the claim'}},\n",
       "     'required': ['title',\n",
       "      'url',\n",
       "      'news_source_trustworthy_score',\n",
       "      'support_claim']},\n",
       "    'description': 'List of references'},\n",
       "   'factualness_score': {'type': 'number',\n",
       "    'description': '0 to 1 score in terms of factualness based on the references from research above'}},\n",
       "  'required': ['references']},\n",
       " 'preferences': \"Generate trump's claims based on the above schema\",\n",
       " 'text': \"Based on a comprehensive analysis of references, including the title, URL, news source trustworthiness score, and support claim, the factualness score of Trump's claims is determined to be 0.8, indicating a high level of accuracy and credibility in his statements.\"}"
      ]
     },
     "execution_count": 22,
     "metadata": {},
     "output_type": "execute_result"
    }
   ],
   "source": [
    "chain(\n",
    "    {\n",
    "        \"fields\": schema,\n",
    "        \"preferences\": \"Generate trump's claims based on the above schema\",\n",
    "    }\n",
    ")"
   ]
  },
  {
   "cell_type": "code",
   "execution_count": 7,
   "metadata": {},
   "outputs": [],
   "source": [
    "topic = \"generate sythetic data: at least 3 fact-based claims from Trump on the topic of immigration\"\n",
    "schema = {\n",
    "    \"type\": \"object\",\n",
    "    \"properties\": {\n",
    "        \"sythetic_data\": {\n",
    "            \"type\": \"array\",\n",
    "            \"items\": {\n",
    "                \"type\": \"object\",\n",
    "                \"properties\": {\n",
    "                    \"text\": {\"type\": \"string\", \"description\": \"fact based text generation\"},\n",
    "                    \"reference_url\": {\n",
    "                        \"type\": \"string\",\n",
    "                        \"description\": \"url link to the news article\",\n",
    "                    },\n",
    "                    \"reference_title\": {\n",
    "                        \"type\": \"string\",\n",
    "                        \"description\": \"title of the reference news article\",\n",
    "                    }\n",
    "                },\n",
    "                \"required\": [\"reference_title\", \"reference_url\", \"text\"],\n",
    "            },\n",
    "            \"description\": \"List of sythetic data generation\",\n",
    "        }\n",
    "    },\n",
    "    \"required\": [\"sythetic_data\"],\n",
    "}\n",
    "\n"
   ]
  },
  {
   "cell_type": "code",
   "execution_count": 8,
   "metadata": {},
   "outputs": [
    {
     "name": "stdout",
     "output_type": "stream",
     "text": [
      "=========================\n",
      "=========================\n",
      "content='' additional_kwargs={'additional_kwargs': {'tool_calls': [{'id': 'call_urxJO06N5nSzf7Zsufqxw7tV', 'function': {'arguments': '{\"query\":\"Trump immigration statements claims\"}', 'name': 'search'}, 'type': 'function', 'index': 0}], 'refusal': None}, 'response_metadata': {'token_usage': {'completion_tokens': 14, 'prompt_tokens': 546, 'total_tokens': 560, 'completion_tokens_details': None}, 'model_name': 'openai/gpt-4o-mini-2024-07-18', 'system_fingerprint': 'fp_1bb46167f9', 'finish_reason': 'tool_calls', 'logprobs': None}, 'example': False, 'invalid_tool_calls': [], 'usage_metadata': {'input_tokens': 546, 'output_tokens': 14, 'total_tokens': 560}} response_metadata={} id='run-ac593b05-43d6-45c6-a3f0-59ea1859daea-0' tool_calls=[{'name': 'search', 'args': {'query': 'Trump immigration statements claims'}, 'id': 'call_urxJO06N5nSzf7Zsufqxw7tV', 'type': 'tool_call'}]\n",
      "=========================\n",
      "content='[{\"url\": \"https://www.politifact.com/factchecks/2024/jan/12/donald-trump/trumps-claim-that-millions-of-immigrants-are-signi/\", \"content\": \"Trump\\'s statements in majority-white Iowa, which holds its caucuses Jan. 15, ... WOSU, Immigration, false election claims get the spotlight in GOP U.S. Senate debate, March 29, 2022.\"}, {\"url\": \"https://www.wsj.com/livecoverage/harris-trump-presidential-debate-election-2024/card/examining-trump-s-immigration-claims-b3nHjIXmi2fsiTqRcLcW\", \"content\": \"Donald Trump just made several rapid-fire claims about immigrants. Let\\'s take them one-by-one: Immigrants are coming from the world\\'s prisons and mental institutions Trump\\'s claim appears to ...\"}, {\"url\": \"https://www.npr.org/2024/09/11/nx-s1-5107841/a-fact-check-on-immigration-comments-made-at-the-trump-harris-debate\", \"content\": \"A fact check on immigration comments made at the Trump-Harris debate : NPR About NPR A fact check on immigration comments made at the Trump-Harris debate Immigration was a big topic at Tuesday night\\'s presidential debate in Philadelphia. We fact-check former President Donald Trump and Vice President Kamala Harris on their claims. A fact check on immigration comments made at the Trump-Harris debate A fact check on immigration comments made at the Trump-Harris debate NPR\\'s Sergio Martínez-Beltrán covers immigration, and he\\'s here to fact-check Trump and Vice President Kamala Harris on their claims. MARTÍNEZ-BELTRÁN: Well, for his part, Trump again doubled down on his false claims about a wide-open border and criminals flooding into America. FADEL: NPR\\'s Sergio Martínez-Beltrán. About NPR\"}, {\"url\": \"https://www.politifact.com/factchecks/2024/jun/06/donald-trump/fact-check-trumps-ridiculous-claim-that-millions-o/\", \"content\": \"New York Times, Fact-Checking Trump\\'s Recent Immigration Claims, Dec. 24, 2023 The Washington Post, Trump has a bunch of new false claims. Here\\'s a guide. , March 14, 2024\"}, {\"url\": \"https://www.poynter.org/fact-checking/2024/fact-check-donald-trump-kamala-harris-never-gone-border/\", \"content\": \"Here are the facts behind some of Trump\\'s inaccurate statements: Trump on immigration Of Harris, \\\\\"She was put in charge of the U.S. border security at the border and she never showed up.\"}, {\"url\": \"https://www.politifact.com/factchecks/2024/jul/29/donald-trump/fact-checking-donald-trumps-misleading-statement-t/\", \"content\": \"The Trump campaign also pointed to other Harris statements that were critical of Trump\\'s immigration enforcement policies, but none of the comments go as far as Trump claimed in his remarks.\"}, {\"url\": \"https://www.factcheck.org/2024/06/factchecking-trumps-immigration-related-claims-in-phoenix-and-las-vegas/\", \"content\": \"At both his Phoenix and Las Vegas events, Trump repeated a false claim he has often made — that the U.S. \\\\\"had the most secure border we\\'ve ever had\\\\\" when he left office. \\\\\"When I ran in ...\"}, {\"url\": \"https://www.cnn.com/2024/02/29/politics/fact-check-trump-biden-border-speech/index.html\", \"content\": \"He made that claim though early data suggests\\xa0that in 2023 the US was at or around its lowest violent crime rate in more than 50 years amid a sharp decline in homicides; though there were cases of undocumented people committing crimes during his own presidency; and though, despite some recent cases\\xa0in which undocumented people are accused of serious offenses, research has found no connection between immigration and crime\\xa0- and sometimes that immigrants commit crimes at lower rates than people born in the US.\\\\n And a second article that Cheung cited at the time, about Mexico’s president having freed 2,685 prisoners, was not about migration at all; that article simply explained that the president had freed them “as part of an effort to free those who have not committed serious crimes or were being held unjustly.”\\\\nCNN reached out to Cheung again after Trump’s speech on Thursday and will update this item with any relevant comment.\\\\n He said he thinks unnamed people are allowing migrants into the country because “they’re looking for votes,” faintly echoing his previous false claim about migrants being signed up to vote\\xa0in the 2024 election – and declining to explain that non-citizens cannot vote in federal, state and almost all local elections (though some migrants might potentially receive citizenship years down the road).\\\\n For example, Trump spoke of migrants as “entire columns of fighting-age men” and said “they look like warriors to me; something’s going on, and it’s bad” – winking at a baseless narrative about foreign adversaries using migration to surreptitiously assemble some sort of enemy force in the US. The rest was 33 miles of “secondary” wall that was built in spots where no barriers previously existed, plus 373 miles of primary and secondary wall that was built to replace previous barriers the federal government says had become “dilapidated and/or outdated.”\\\\n\"}, {\"url\": \"https://www.factcheck.org/2024/04/trumps-misleading-chart-on-illegal-immigration/\", \"content\": \"Trump\\'s Chart. During his speech in Green Bay on April 2, Trump claimed to have \\\\\"fixed\\\\\" the border when he was president. Former President Donald Trump speaks at a rally on April 2 in Green ...\"}, {\"url\": \"https://www.cnn.com/2024/08/26/politics/fact-check-trump-immigration-chart/index.html\", \"content\": \"Illegal immigration was not at its lowest point in history in Trump’s last week in office in January 2021 – and contrary to the text on the chart, the red arrow does not actually point to January 2021. Trump’s false claim that the red arrow points to the week he left office has been fact-checked repeatedly, including by FactCheck.org after he used the chart at a rally in Wisconsin in April. Johnson’s chart does not include the red arrow pointing to April 2020 or the red text wrongly claiming that the arrow points to when Trump left office.\"}]' name='search' id='ff5f786f-8759-4b8a-9278-af67d37aa0c1' tool_call_id='call_urxJO06N5nSzf7Zsufqxw7tV'\n",
      "=========================\n",
      "content='' additional_kwargs={'additional_kwargs': {'tool_calls': [{'id': 'call_ljh1qqIA3NAkdq5Ol0fABivE', 'function': {'arguments': '{\"url\": \"https://www.politifact.com/factchecks/2024/jan/12/donald-trump/trumps-claim-that-millions-of-immigrants-are-signi/\"}', 'name': 'scrape_website'}, 'type': 'function', 'index': 0}, {'id': 'call_SQYMwbKygMDQhMQ43byqjnLT', 'function': {'arguments': '{\"url\": \"https://www.wsj.com/livecoverage/harris-trump-presidential-debate-election-2024/card/examining-trump-s-immigration-claims-b3nHjIXmi2fsiTqRcLcW\"}', 'name': 'scrape_website'}, 'type': 'function', 'index': 1}, {'id': 'call_hQlr0Eci1vayqjS9KFKVZNrk', 'function': {'arguments': '{\"url\": \"https://www.npr.org/2024/09/11/nx-s1-5107841/a-fact-check-on-immigration-comments-made-at-the-trump-harris-debate\"}', 'name': 'scrape_website'}, 'type': 'function', 'index': 2}, {'id': 'call_tI2GruJEP81oWQVtbSV3Or1M', 'function': {'arguments': '{\"url\": \"https://www.politifact.com/factchecks/2024/jun/06/donald-trump/fact-check-trumps-ridiculous-claim-that-millions-o/\"}', 'name': 'scrape_website'}, 'type': 'function', 'index': 3}, {'id': 'call_fwfGT8c6KWM7l12HVG7mgXJw', 'function': {'arguments': '{\"url\": \"https://www.poynter.org/fact-checking/2024/fact-check-donald-trump-kamala-harris-never-gone-border/\"}', 'name': 'scrape_website'}, 'type': 'function', 'index': 4}, {'id': 'call_r3Z2aIgvRM94BZSfOQshzQmX', 'function': {'arguments': '{\"url\": \"https://www.politifact.com/factchecks/2024/jul/29/donald-trump/fact-checking-donald-trumps-misleading-statement-t/\"}', 'name': 'scrape_website'}, 'type': 'function', 'index': 5}, {'id': 'call_EdEywixeDhw6hFjhhCO61Xhl', 'function': {'arguments': '{\"url\": \"https://www.factcheck.org/2024/06/factchecking-trumps-immigration-related-claims-in-phoenix-and-las-vegas/\"}', 'name': 'scrape_website'}, 'type': 'function', 'index': 6}, {'id': 'call_EmKOHEaYMJqq63QoZAGDg53G', 'function': {'arguments': '{\"url\": \"https://www.cnn.com/2024/02/29/politics/fact-check-trump-biden-border-speech/index.html\"}', 'name': 'scrape_website'}, 'type': 'function', 'index': 7}, {'id': 'call_28GAOIOJGthvVmZGW5iXLfag', 'function': {'arguments': '{\"url\": \"https://www.factcheck.org/2024/04/trumps-misleading-chart-on-illegal-immigration/\"}', 'name': 'scrape_website'}, 'type': 'function', 'index': 8}, {'id': 'call_CE7A9YhJkMZfGWVRjAE09jFX', 'function': {'arguments': '{\"url\": \"https://www.cnn.com/2024/08/26/politics/fact-check-trump-immigration-chart/index.html\"}', 'name': 'scrape_website'}, 'type': 'function', 'index': 9}], 'refusal': None}, 'response_metadata': {'token_usage': {'completion_tokens': 509, 'prompt_tokens': 1963, 'total_tokens': 2472, 'completion_tokens_details': None}, 'model_name': 'openai/gpt-4o-mini-2024-07-18', 'system_fingerprint': 'fp_1bb46167f9', 'finish_reason': 'tool_calls', 'logprobs': None}, 'example': False, 'invalid_tool_calls': [], 'usage_metadata': {'input_tokens': 1963, 'output_tokens': 509, 'total_tokens': 2472}} response_metadata={} id='run-fc9bd20c-cda4-454f-912d-a0be5ed42f35-0' tool_calls=[{'name': 'scrape_website', 'args': {'url': 'https://www.politifact.com/factchecks/2024/jan/12/donald-trump/trumps-claim-that-millions-of-immigrants-are-signi/'}, 'id': 'call_ljh1qqIA3NAkdq5Ol0fABivE', 'type': 'tool_call'}, {'name': 'scrape_website', 'args': {'url': 'https://www.wsj.com/livecoverage/harris-trump-presidential-debate-election-2024/card/examining-trump-s-immigration-claims-b3nHjIXmi2fsiTqRcLcW'}, 'id': 'call_SQYMwbKygMDQhMQ43byqjnLT', 'type': 'tool_call'}, {'name': 'scrape_website', 'args': {'url': 'https://www.npr.org/2024/09/11/nx-s1-5107841/a-fact-check-on-immigration-comments-made-at-the-trump-harris-debate'}, 'id': 'call_hQlr0Eci1vayqjS9KFKVZNrk', 'type': 'tool_call'}, {'name': 'scrape_website', 'args': {'url': 'https://www.politifact.com/factchecks/2024/jun/06/donald-trump/fact-check-trumps-ridiculous-claim-that-millions-o/'}, 'id': 'call_tI2GruJEP81oWQVtbSV3Or1M', 'type': 'tool_call'}, {'name': 'scrape_website', 'args': {'url': 'https://www.poynter.org/fact-checking/2024/fact-check-donald-trump-kamala-harris-never-gone-border/'}, 'id': 'call_fwfGT8c6KWM7l12HVG7mgXJw', 'type': 'tool_call'}, {'name': 'scrape_website', 'args': {'url': 'https://www.politifact.com/factchecks/2024/jul/29/donald-trump/fact-checking-donald-trumps-misleading-statement-t/'}, 'id': 'call_r3Z2aIgvRM94BZSfOQshzQmX', 'type': 'tool_call'}, {'name': 'scrape_website', 'args': {'url': 'https://www.factcheck.org/2024/06/factchecking-trumps-immigration-related-claims-in-phoenix-and-las-vegas/'}, 'id': 'call_EdEywixeDhw6hFjhhCO61Xhl', 'type': 'tool_call'}, {'name': 'scrape_website', 'args': {'url': 'https://www.cnn.com/2024/02/29/politics/fact-check-trump-biden-border-speech/index.html'}, 'id': 'call_EmKOHEaYMJqq63QoZAGDg53G', 'type': 'tool_call'}, {'name': 'scrape_website', 'args': {'url': 'https://www.factcheck.org/2024/04/trumps-misleading-chart-on-illegal-immigration/'}, 'id': 'call_28GAOIOJGthvVmZGW5iXLfag', 'type': 'tool_call'}, {'name': 'scrape_website', 'args': {'url': 'https://www.cnn.com/2024/08/26/politics/fact-check-trump-immigration-chart/index.html'}, 'id': 'call_CE7A9YhJkMZfGWVRjAE09jFX', 'type': 'tool_call'}]\n",
      "=========================\n",
      "content='Based on the content scraped from the CNN website, here are the notes regarding the article:\\n\\n```json\\n{\\n  \"sythetic_data\": [\\n    {\\n      \"reference_title\": \"Fact Check: Trump\\'s Immigration Chart\",\\n      \"reference_url\": \"https://www.cnn.com/2024/08/26/politics/fact-check-trump-immigration-chart/index.html\",\\n      \"text\": \"A CNN fact-check article evaluates claims made by former President Donald Trump regarding immigration statistics. The article provides detailed analysis and context to his statements, highlighting discrepancies and providing factual data.\"\\n    }\\n  ]\\n}\\n``` \\n\\nThese notes summarize the key elements of the article, including its title, URL, and a brief description of the content.' name='scrape_website' id='07f7243a-00c1-465c-b8ac-5e7149aa7b09' tool_call_id='call_CE7A9YhJkMZfGWVRjAE09jFX'\n",
      "=========================\n",
      "content='' additional_kwargs={'additional_kwargs': {'tool_calls': [{'id': 'call_arBuhKLaTCvoOjW36w1Zlt3N', 'function': {'arguments': '{\"sythetic_data\":[{\"text\":\"Former President Donald Trump made a claim during a speech on January 5, 2024, suggesting that Democrats are facilitating illegal voting by immigrants. This statement has been rated as \\'Pants on Fire\\' by PolitiFact, indicating it is false and lacks evidence. The article outlines that only U.S. citizens are eligible to vote and that incidents of noncitizen voting are extremely rare. The process for immigrants to become citizens takes years, which means they cannot register to vote immediately. Moreover, historical cases of noncitizen voting have been due to misunderstandings or errors, not organized efforts by any political party.\",\"reference_url\":\"https://www.politifact.com/factchecks/2024/jan/12/donald-trump/trumps-claim-that-millions-of-immigrants-are-signi/\",\"reference_title\":\"Trump\\'s claim that millions of immigrants are signing up to vote illegally is Pants on Fire!\"},{\"text\":\"The article discusses immigration claims made by Donald Trump during a presidential debate, including fact-checking aspects that examine the accuracy of his statements related to immigration policies and statistics. This piece contributes to the political discourse surrounding the 2024 election.\",\"reference_url\":\"https://www.wsj.com/livecoverage/harris-trump-presidential-debate-election-2024/card/examining-trump-s-immigration-claims-b3nHjIXmi2fsiTqRcLcW\",\"reference_title\":\"Examining Trump\\'s Immigration Claims\"},{\"text\":\"Immigration was a significant topic during the presidential debate in Philadelphia, where NPR fact-checked claims made by former President Donald Trump and Vice President Kamala Harris regarding immigration issues.\",\"reference_url\":\"https://www.npr.org/2024/09/11/nx-s1-5107841/a-fact-check-on-immigration-comments-made-at-the-trump-harris-debate\",\"reference_title\":\"A fact check on immigration comments made at the Trump-Harris debate\"},{\"text\":\"Trump claims that President Biden is allowing \\'millions\\' of immigrants from jails, prisons, and mental institutions to enter the U.S. PolitiFact\\'s assessment rated this claim as \\'Pants on Fire,\\' indicating a gross exaggeration or falsehood. The actual number of noncitizens with criminal convictions arrested from fiscal years 2021 to 2024 was about 103,700, not millions. Experts argue that the claim is illogical and lacks evidence.\",\"reference_url\":\"https://www.politifact.com/factchecks/2024/jun/06/donald-trump/fact-check-trumps-ridiculous-claim-that-millions-o/\",\"reference_title\":\"Trump’s ridiculous claim that “millions” of immigrants came illegally from jails, mental facilities\"},{\"text\":\"Donald Trump falsely claimed that Kamala Harris supported abolishing ICE during a campaign rally. The fact-check states that while Harris criticized ICE\\'s operations, she never called for its abolition and instead affirmed that ICE should exist.\",\"reference_url\":\"https://www.politifact.com/factchecks/2024/jul/29/donald-trump/fact-checking-donald-trumps-misleading-statement-t/\",\"reference_title\":\"Fact-checking Donald Trump’s False claim that Kamala Harris ‘supported abolishing ICE’\"},{\"text\":\"During a speech in Green Bay, Wisconsin, former President Donald Trump pointed to a chart on apprehensions of people trying to enter the U.S. illegally at the southwest border. Trump claimed that the chart indicated that his last week in office saw the lowest number of illegal immigration apprehensions in history. However, this statement was misleading as the data presented was not accurate.\",\"reference_url\":\"https://www.factcheck.org/2024/04/trumps-misleading-chart-on-illegal-immigration/\",\"reference_title\":\"Trump’s Misleading Chart on Illegal Immigration\"},{\"text\":\"In a recent speech, both Trump and Biden made various claims regarding border security and immigration. This fact-check evaluates the accuracy of their statements against available data and expert analyses.\",\"reference_url\":\"https://www.cnn.com/2024/02/29/politics/fact-check-trump-biden-border-speech/index.html\",\"reference_title\":\"Fact-checking Trump and Biden\\'s border speech\"},{\"text\":\"A CNN fact-check article evaluates claims made by former President Donald Trump regarding immigration statistics. The article provides detailed analysis and context to his statements, highlighting discrepancies and providing factual data.\",\"reference_url\":\"https://www.cnn.com/2024/08/26/politics/fact-check-trump-immigration-chart/index.html\",\"reference_title\":\"Fact Check: Trump\\'s Immigration Chart\"}]}', 'name': 'Info'}, 'type': 'function', 'index': 0}], 'refusal': None}, 'response_metadata': {'token_usage': {'completion_tokens': 956, 'prompt_tokens': 6388, 'total_tokens': 7344, 'completion_tokens_details': None}, 'model_name': 'openai/gpt-4o-mini-2024-07-18', 'system_fingerprint': 'fp_1bb46167f9', 'finish_reason': 'tool_calls', 'logprobs': None}, 'example': False, 'invalid_tool_calls': [], 'usage_metadata': {'input_tokens': 6388, 'output_tokens': 956, 'total_tokens': 7344}} response_metadata={} id='run-7ea70c72-8d48-4c8d-9b56-f30ba4b167a1-0' tool_calls=[{'name': 'Info', 'args': {'sythetic_data': [{'text': \"Former President Donald Trump made a claim during a speech on January 5, 2024, suggesting that Democrats are facilitating illegal voting by immigrants. This statement has been rated as 'Pants on Fire' by PolitiFact, indicating it is false and lacks evidence. The article outlines that only U.S. citizens are eligible to vote and that incidents of noncitizen voting are extremely rare. The process for immigrants to become citizens takes years, which means they cannot register to vote immediately. Moreover, historical cases of noncitizen voting have been due to misunderstandings or errors, not organized efforts by any political party.\", 'reference_url': 'https://www.politifact.com/factchecks/2024/jan/12/donald-trump/trumps-claim-that-millions-of-immigrants-are-signi/', 'reference_title': \"Trump's claim that millions of immigrants are signing up to vote illegally is Pants on Fire!\"}, {'text': 'The article discusses immigration claims made by Donald Trump during a presidential debate, including fact-checking aspects that examine the accuracy of his statements related to immigration policies and statistics. This piece contributes to the political discourse surrounding the 2024 election.', 'reference_url': 'https://www.wsj.com/livecoverage/harris-trump-presidential-debate-election-2024/card/examining-trump-s-immigration-claims-b3nHjIXmi2fsiTqRcLcW', 'reference_title': \"Examining Trump's Immigration Claims\"}, {'text': 'Immigration was a significant topic during the presidential debate in Philadelphia, where NPR fact-checked claims made by former President Donald Trump and Vice President Kamala Harris regarding immigration issues.', 'reference_url': 'https://www.npr.org/2024/09/11/nx-s1-5107841/a-fact-check-on-immigration-comments-made-at-the-trump-harris-debate', 'reference_title': 'A fact check on immigration comments made at the Trump-Harris debate'}, {'text': \"Trump claims that President Biden is allowing 'millions' of immigrants from jails, prisons, and mental institutions to enter the U.S. PolitiFact's assessment rated this claim as 'Pants on Fire,' indicating a gross exaggeration or falsehood. The actual number of noncitizens with criminal convictions arrested from fiscal years 2021 to 2024 was about 103,700, not millions. Experts argue that the claim is illogical and lacks evidence.\", 'reference_url': 'https://www.politifact.com/factchecks/2024/jun/06/donald-trump/fact-check-trumps-ridiculous-claim-that-millions-o/', 'reference_title': 'Trump’s ridiculous claim that “millions” of immigrants came illegally from jails, mental facilities'}, {'text': \"Donald Trump falsely claimed that Kamala Harris supported abolishing ICE during a campaign rally. The fact-check states that while Harris criticized ICE's operations, she never called for its abolition and instead affirmed that ICE should exist.\", 'reference_url': 'https://www.politifact.com/factchecks/2024/jul/29/donald-trump/fact-checking-donald-trumps-misleading-statement-t/', 'reference_title': 'Fact-checking Donald Trump’s False claim that Kamala Harris ‘supported abolishing ICE’'}, {'text': 'During a speech in Green Bay, Wisconsin, former President Donald Trump pointed to a chart on apprehensions of people trying to enter the U.S. illegally at the southwest border. Trump claimed that the chart indicated that his last week in office saw the lowest number of illegal immigration apprehensions in history. However, this statement was misleading as the data presented was not accurate.', 'reference_url': 'https://www.factcheck.org/2024/04/trumps-misleading-chart-on-illegal-immigration/', 'reference_title': 'Trump’s Misleading Chart on Illegal Immigration'}, {'text': 'In a recent speech, both Trump and Biden made various claims regarding border security and immigration. This fact-check evaluates the accuracy of their statements against available data and expert analyses.', 'reference_url': 'https://www.cnn.com/2024/02/29/politics/fact-check-trump-biden-border-speech/index.html', 'reference_title': \"Fact-checking Trump and Biden's border speech\"}, {'text': 'A CNN fact-check article evaluates claims made by former President Donald Trump regarding immigration statistics. The article provides detailed analysis and context to his statements, highlighting discrepancies and providing factual data.', 'reference_url': 'https://www.cnn.com/2024/08/26/politics/fact-check-trump-immigration-chart/index.html', 'reference_title': \"Fact Check: Trump's Immigration Chart\"}]}, 'id': 'call_arBuhKLaTCvoOjW36w1Zlt3N', 'type': 'tool_call'}]\n",
      "=========================\n",
      "content=\"The provided information includes multiple credible sources that fact-check Donald Trump's claims on immigration, which supports the request for fact-based synthetic data.\\nEach entry contains a clear reference title, URL, and a concise text summary that captures the essence of the claim and its evaluation. This structure aligns well with the requirements for synthetic data generation.\\nThe data covers a variety of claims related to immigration, ensuring a comprehensive overview of the topic as requested.\" name='Info' id='2710f78f-75ca-45e6-94b8-39ff0766b893' tool_call_id='call_arBuhKLaTCvoOjW36w1Zlt3N'\n",
      "=========================\n"
     ]
    }
   ],
   "source": [
    "from langchain_core.messages import convert_to_messages\n",
    "\n",
    "# Thread\n",
    "thread = await client.threads.create()\n",
    "\n",
    "# Model\n",
    "#llm = \"anthropic/claude-3-5-sonnet-20240620\"\n",
    "llm = \"openai/gpt-4o-mini-2024-07-18\"\n",
    "\n",
    "# Stream\n",
    "async for event in client.runs.stream(\n",
    "    thread[\"thread_id\"],\n",
    "    assistant_id=\"agent\",\n",
    "    input={\n",
    "        \"topic\": topic,\n",
    "        \"extraction_schema\": schema,\n",
    "        \"configurable\": {\"model_name\": llm},\n",
    "    },\n",
    "    stream_mode=\"values\",\n",
    "):\n",
    "    messages = event.data.get(\"messages\", None)\n",
    "    if messages:\n",
    "        print(convert_to_messages(messages)[-1])\n",
    "    print(\"=\" * 25)"
   ]
  },
  {
   "cell_type": "code",
   "execution_count": 9,
   "metadata": {},
   "outputs": [
    {
     "data": {
      "text/plain": [
       "{'sythetic_data': [{'text': \"Former President Donald Trump made a claim during a speech on January 5, 2024, suggesting that Democrats are facilitating illegal voting by immigrants. This statement has been rated as 'Pants on Fire' by PolitiFact, indicating it is false and lacks evidence. The article outlines that only U.S. citizens are eligible to vote and that incidents of noncitizen voting are extremely rare. The process for immigrants to become citizens takes years, which means they cannot register to vote immediately. Moreover, historical cases of noncitizen voting have been due to misunderstandings or errors, not organized efforts by any political party.\",\n",
       "   'reference_url': 'https://www.politifact.com/factchecks/2024/jan/12/donald-trump/trumps-claim-that-millions-of-immigrants-are-signi/',\n",
       "   'reference_title': \"Trump's claim that millions of immigrants are signing up to vote illegally is Pants on Fire!\"},\n",
       "  {'text': 'The article discusses immigration claims made by Donald Trump during a presidential debate, including fact-checking aspects that examine the accuracy of his statements related to immigration policies and statistics. This piece contributes to the political discourse surrounding the 2024 election.',\n",
       "   'reference_url': 'https://www.wsj.com/livecoverage/harris-trump-presidential-debate-election-2024/card/examining-trump-s-immigration-claims-b3nHjIXmi2fsiTqRcLcW',\n",
       "   'reference_title': \"Examining Trump's Immigration Claims\"},\n",
       "  {'text': 'Immigration was a significant topic during the presidential debate in Philadelphia, where NPR fact-checked claims made by former President Donald Trump and Vice President Kamala Harris regarding immigration issues.',\n",
       "   'reference_url': 'https://www.npr.org/2024/09/11/nx-s1-5107841/a-fact-check-on-immigration-comments-made-at-the-trump-harris-debate',\n",
       "   'reference_title': 'A fact check on immigration comments made at the Trump-Harris debate'},\n",
       "  {'text': \"Trump claims that President Biden is allowing 'millions' of immigrants from jails, prisons, and mental institutions to enter the U.S. PolitiFact's assessment rated this claim as 'Pants on Fire,' indicating a gross exaggeration or falsehood. The actual number of noncitizens with criminal convictions arrested from fiscal years 2021 to 2024 was about 103,700, not millions. Experts argue that the claim is illogical and lacks evidence.\",\n",
       "   'reference_url': 'https://www.politifact.com/factchecks/2024/jun/06/donald-trump/fact-check-trumps-ridiculous-claim-that-millions-o/',\n",
       "   'reference_title': 'Trump’s ridiculous claim that “millions” of immigrants came illegally from jails, mental facilities'},\n",
       "  {'text': \"Donald Trump falsely claimed that Kamala Harris supported abolishing ICE during a campaign rally. The fact-check states that while Harris criticized ICE's operations, she never called for its abolition and instead affirmed that ICE should exist.\",\n",
       "   'reference_url': 'https://www.politifact.com/factchecks/2024/jul/29/donald-trump/fact-checking-donald-trumps-misleading-statement-t/',\n",
       "   'reference_title': 'Fact-checking Donald Trump’s False claim that Kamala Harris ‘supported abolishing ICE’'},\n",
       "  {'text': 'During a speech in Green Bay, Wisconsin, former President Donald Trump pointed to a chart on apprehensions of people trying to enter the U.S. illegally at the southwest border. Trump claimed that the chart indicated that his last week in office saw the lowest number of illegal immigration apprehensions in history. However, this statement was misleading as the data presented was not accurate.',\n",
       "   'reference_url': 'https://www.factcheck.org/2024/04/trumps-misleading-chart-on-illegal-immigration/',\n",
       "   'reference_title': 'Trump’s Misleading Chart on Illegal Immigration'},\n",
       "  {'text': 'In a recent speech, both Trump and Biden made various claims regarding border security and immigration. This fact-check evaluates the accuracy of their statements against available data and expert analyses.',\n",
       "   'reference_url': 'https://www.cnn.com/2024/02/29/politics/fact-check-trump-biden-border-speech/index.html',\n",
       "   'reference_title': \"Fact-checking Trump and Biden's border speech\"},\n",
       "  {'text': 'A CNN fact-check article evaluates claims made by former President Donald Trump regarding immigration statistics. The article provides detailed analysis and context to his statements, highlighting discrepancies and providing factual data.',\n",
       "   'reference_url': 'https://www.cnn.com/2024/08/26/politics/fact-check-trump-immigration-chart/index.html',\n",
       "   'reference_title': \"Fact Check: Trump's Immigration Chart\"}]}"
      ]
     },
     "execution_count": 9,
     "metadata": {},
     "output_type": "execute_result"
    }
   ],
   "source": [
    "current_state = await client.threads.get_state(thread[\"thread_id\"])\n",
    "current_state[\"values\"][\"info\"]"
   ]
  }
 ],
 "metadata": {
  "kernelspec": {
   "display_name": "venv",
   "language": "python",
   "name": "python3"
  },
  "language_info": {
   "codemirror_mode": {
    "name": "ipython",
    "version": 3
   },
   "file_extension": ".py",
   "mimetype": "text/x-python",
   "name": "python",
   "nbconvert_exporter": "python",
   "pygments_lexer": "ipython3",
   "version": "3.10.13"
  }
 },
 "nbformat": 4,
 "nbformat_minor": 2
}
