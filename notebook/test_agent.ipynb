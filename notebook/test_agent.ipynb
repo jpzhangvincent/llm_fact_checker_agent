{
 "cells": [
  {
   "cell_type": "code",
   "execution_count": 1,
   "metadata": {},
   "outputs": [],
   "source": [
    "from langgraph_sdk import get_client"
   ]
  },
  {
   "cell_type": "code",
   "execution_count": 2,
   "metadata": {},
   "outputs": [],
   "source": [
    "client = get_client(url=\"http://localhost:8123\")"
   ]
  },
  {
   "cell_type": "code",
   "execution_count": 9,
   "metadata": {},
   "outputs": [],
   "source": [
    "#topic = \"Top 5 chip providers for LLM Training\"\n",
    "topic = \"Fact checking the Trump's claim: people are eating the dogs and cats in Springfield\""
   ]
  },
  {
   "cell_type": "code",
   "execution_count": 13,
   "metadata": {},
   "outputs": [],
   "source": [
    "schema = {\n",
    "    \"type\": \"object\",\n",
    "    \"properties\": {\n",
    "        \"references\": {\n",
    "            \"type\": \"array\",\n",
    "            \"items\": {\n",
    "                \"type\": \"object\",\n",
    "                \"properties\": {\n",
    "                    \"title\": {\"type\": \"string\", \"description\": \"title name of the article\"},\n",
    "                    \"url\": {\n",
    "                        \"type\": \"string\",\n",
    "                        \"description\": \"url link to the news article\",\n",
    "                    },\n",
    "                    \"news_source_trustworthy_score\": {\n",
    "                        \"type\": \"number\",\n",
    "                        \"description\": \"0 to 1 score in terms of whether the news source is trustworthy in general\",\n",
    "                    },\n",
    "                    \"support_claim\": {\n",
    "                        \"type\": \"boolean\",\n",
    "                        \"description\": \"boolean value to indicate whether the news article support the claim\",\n",
    "                    },\n",
    "                },\n",
    "                \"required\": [\"title\", \"url\", \"news_source_trustworthy_score\", \"support_claim\"],\n",
    "            },\n",
    "            \"description\": \"List of companies\",\n",
    "        },\n",
    "        \"factualness_score\": {\n",
    "            \"type\": \"number\",\n",
    "            \"description\": \"0 to 1 score in terms of factualness based on the references from research above\"\n",
    "        }\n",
    "    },\n",
    "    \"required\": [\"references\"],\n",
    "}"
   ]
  },
  {
   "cell_type": "code",
   "execution_count": 11,
   "metadata": {},
   "outputs": [
    {
     "name": "stdout",
     "output_type": "stream",
     "text": [
      "=========================\n",
      "=========================\n",
      "content='' additional_kwargs={'additional_kwargs': {'tool_calls': [{'id': 'call_tu04dPECbqjZv2G36M6Nknjb', 'function': {'arguments': '{\"query\":\"Trump claim people eating dogs cats Springfield fact check\"}', 'name': 'search'}, 'type': 'function', 'index': 0}], 'refusal': None}, 'response_metadata': {'token_usage': {'completion_tokens': 19, 'prompt_tokens': 618, 'total_tokens': 637, 'completion_tokens_details': None}, 'model_name': 'openai/gpt-4o-mini-2024-07-18', 'system_fingerprint': 'fp_1bb46167f9', 'finish_reason': 'tool_calls', 'logprobs': None}, 'example': False, 'invalid_tool_calls': [], 'usage_metadata': {'input_tokens': 618, 'output_tokens': 19, 'total_tokens': 637}} response_metadata={} id='run-3d22a261-6e64-4ace-b768-75722ba68ca3-0' tool_calls=[{'name': 'search', 'args': {'query': 'Trump claim people eating dogs cats Springfield fact check'}, 'id': 'call_tu04dPECbqjZv2G36M6Nknjb', 'type': 'tool_call'}]\n",
      "=========================\n",
      "content='[{\"url\": \"https://www.newsweek.com/donald-trump-cats-dogs-claim-debate-video-fact-check-election-2024-1952779\", \"content\": \"Fact Check: Trump Shares Misleading Video About Animal Abuse After Debate - Newsweek Fact Check: Trump Shares Misleading Video About Animal Abuse After Debate A lot of the coverage following Tuesday night\\'s debate between Donald Trump and Kamala Harris has scrutinized his baseless assertion that Haitian immigrants were eating cats and dogs in Springfield, Ohio. Truth Social user @GeneralMCNews, whose content Trump shared, has posted other misleading material, including conspiratorial claims about COVID-19, one of which Newsweek debunked earlier this week. Although the incident in the video did take place in Ohio and the video Trump shared does not specifically identify Springfield or Canton, it is misleading in the context of his comments from the debate in which he mentioned Springfield.\"}, {\"url\": \"https://news.yahoo.com/news/truth-springfield-ohio-immigrants-eating-182913769.html\", \"content\": \"1. The claim was repeated by former President Donald Trump during Tuesday\\'s presidential debate. \\\\\"In Springfield, they\\'re eating the dogs, the people that came in,\\\\\" Trump said. \\\\\"They\\'re eating the cats. They\\'re eating the pets of the people that live there. This is what\\'s happening in our country, and it\\'s a shame.\\\\\"\"}, {\"url\": \"https://www.economist.com/the-economist-explains/2024/09/11/donald-trump-says-immigrants-are-eating-springfields-pets-what\", \"content\": \"Donald Trump says immigrants are eating Springfield’s pets. The world in brief Business & economics A-Z of economics My Economist Donald Trump says immigrants are eating Springfield’s pets. WHEN DONALD TRUMP uttered the word “Springfield” 33 minutes into the American presidential debate on September 10th, David Muir, the co-moderator, was prepared. In that small Ohio town, Mr Trump declared, illegal immigrants are “eating the dogs, they’re eating the cats, they’re eating the pets of the people who live there”. But lots of Mr Trump’s fans were primed for it: the allegation had been circulating in right-wing circles on social media, boosted by Elon Musk, the owner of X. Will the debate between Kamala Harris and Donald Trump matter? The Economist\"}, {\"url\": \"https://www.dispatch.com/story/news/2024/09/11/truth-fact-check-people-eating-dogs-springfield-ohio-trump-vance-harris-debate/75171964007/\", \"content\": \"The truth about Springfield, Ohio: Are immigrants eating dogs as Trump says? The city manager released a statement saying there\\'s no evidence of any cats or other pets being harmed or eaten by the Haitian immigrants. With Springfield in the spotlight amid misinformation about immigrants eating pets and wild geese, how are residents and the local Haitian population managing? It\\'s being used as proof by right-wing figures\\xa0falsely claiming\\xa0that Haitian immigrants in Springfield, Ohio, are eating pets and wildlife. Likewise, video posted on YouTube\\xa0by the \\\\\"Fake News Network\\\\\" that is titled \\\\\"Haitian Woman Eats Neighbour\\'s Cat in Springfield\\\\\" falsely claims to show police officers confronting a Haitian woman in Springfield about eating a cat, The Canton Repository reports.\"}, {\"url\": \"https://www.usatoday.com/story/news/politics/elections/2024/09/11/canton-woman-accused-of-eating-cat-not-haitian-from-springfield-ohio/75183732007/\", \"content\": \"Despite Springfield\\'s efforts to debunk the pet-eating rumors, Trump continued to spread the false narrative about immigrants eating cats and dogs. \\\\\"They\\'re eating the dogs! The people that ...\"}, {\"url\": \"https://www.politifact.com/factchecks/2024/sep/11/donald-trump/trump-repeats-baseless-claims-that-haitian-immigra/\", \"content\": \"Trump repeats baseless claims that Haitian immigrants in Springfield, Ohio, are eating pets A Springfield, Ohio, city spokesperson, the mayor and city police all said claims that Haitian immigrants are stealing and eating residents’ pets are unfounded. 10 debate with Vice President Kamala Harris repeated a debunked claim that Haitian immigrants were eating people’s pets in Springfield, Ohio. Trump said that in Springfield, Ohio, Haitian immigrants are \\\\\"eating the pets of the people that live there.\\\\\" He doubled down on the claim\\xa0after being corrected by debate moderator David Muir, despite multiple news outlets debunking the claim a day earlier and against the backdrop of rebuttals from Springfield city officials. Trump repeats baseless claims that Haitian immigrants in Springfield, Ohio, are eating pets\"}, {\"url\": \"https://www.nytimes.com/2024/09/10/us/politics/trump-debate-immigrants-pets.html\", \"content\": \"Former President Donald J. Trump repeated a false and outlandish claim that Haitian immigrants in Springfield, Ohio, have abducted and eaten their neighbors\\' pets. Mr. Trump made the comments on ...\"}, {\"url\": \"https://www.bbc.com/news/articles/cgjv3gdxv7go\", \"content\": \"Trump\\'s comment followed a baseless claim - which was shared by his vice-presidential candidate JD Vance - that immigrants from Haiti who have recently settled in Springfield, Ohio, have been eating pets. CLAIM: Harris: “Donald Trump left us the worst unemployment since the Great Depression”. CLAIM: Harris: \\\\\"If Donald Trump were to be re-elected, he will sign a national abortion ban\\\\\". CLAIM: Trump: “The worst inflation we\\'ve ever had\\\\\" [was under Biden]. CLAIM: Harris: \\\\\"Economists have said that that Trump sales tax would actually result for middle class families in about $4,000 more a year\\\\\". Trump repeats baseless claim about Haitian immigrants eating pets  Donald Trump claimed immigrants in a small Ohio city were eating pets, but there’s no proof of this.\"}, {\"url\": \"https://www.washingtonpost.com/politics/2024/09/10/trump-immigrants-eating-dogs-springfield-ohio-fact-check/\", \"content\": \"On the debate stage Tuesday, Donald Trump doubled down on baseless and dehumanizing claims pushed by his running mate that immigrants in Springfield, Ohio, are stealing and eating pets. Former ...\"}, {\"url\": \"https://www.politifact.com/factchecks/2024/sep/09/social-media/authorities-rebut-claims-that-haitian-immigrants-a/\", \"content\": \"Claims are unfounded that Haitian immigrants in Springfield, Ohio, are stealing neighbors’ pets to eat, and killing ducks and geese for food, a city spokesperson told PolitiFact. Another X post shared a video of what it said was a Haitian immigrant eating a neighbor’s dead cat. The claim that Haitian immigrants are eating wildlife and pets in Springfield was also widely shared by conservative influencers such as Charlie Kirk and X owner Elon Musk, and political entities and figures including the House Judiciary Committee and vice presidential candidate Sen. JD Vance, R-Ohio. In the social media posts sharing the claim, the screenshot of a warning to neighbors appears to come from Springfield Ohio Crime & Information, a private Facebook group. Social media posts claim that pets and wildlife in Springfield, Ohio, are being eaten by Haitian immigrants.\"}]' name='search' id='516b7d9f-7f42-4b7f-b9fb-da73fdc33af0' tool_call_id='call_tu04dPECbqjZv2G36M6Nknjb'\n",
      "=========================\n",
      "content='' additional_kwargs={'additional_kwargs': {'tool_calls': [{'id': 'call_ibWlBjqVbaG8IK4OiTSY2r93', 'function': {'arguments': '{\"url\": \"https://www.newsweek.com/donald-trump-cats-dogs-claim-debate-video-fact-check-election-2024-1952779\"}', 'name': 'scrape_website'}, 'type': 'function', 'index': 0}, {'id': 'call_SSzrpxxSiQ1GKCgxcSJ7F3n8', 'function': {'arguments': '{\"url\": \"https://news.yahoo.com/news/truth-springfield-ohio-immigrants-eating-182913769.html\"}', 'name': 'scrape_website'}, 'type': 'function', 'index': 1}, {'id': 'call_CbCqjwigK5n7zVUeprZwK53Z', 'function': {'arguments': '{\"url\": \"https://www.economist.com/the-economist-explains/2024/09/11/donald-trump-says-immigrants-are-eating-springfields-pets-what\"}', 'name': 'scrape_website'}, 'type': 'function', 'index': 2}, {'id': 'call_9eCcFcLqJV9tvvNYZ4l2tyYJ', 'function': {'arguments': '{\"url\": \"https://www.dispatch.com/story/news/2024/09/11/truth-fact-check-people-eating-dogs-springfield-ohio-trump-vance-harris-debate/75171964007/\"}', 'name': 'scrape_website'}, 'type': 'function', 'index': 3}, {'id': 'call_sxMM6bXiTAXSTUlx9Ckm9fU5', 'function': {'arguments': '{\"url\": \"https://www.usatoday.com/story/news/politics/elections/2024/09/11/canton-woman-accused-of-eating-cat-not-haitian-from-springfield-ohio/75183732007/\"}', 'name': 'scrape_website'}, 'type': 'function', 'index': 4}, {'id': 'call_oXG6oszrhELHLAb6OWsLbUGM', 'function': {'arguments': '{\"url\": \"https://www.politifact.com/factchecks/2024/sep/11/donald-trump/trump-repeats-baseless-claims-that-haitian-immigra/\"}', 'name': 'scrape_website'}, 'type': 'function', 'index': 5}, {'id': 'call_rMsMJSZSfTcWMruAmKdqapYz', 'function': {'arguments': '{\"url\": \"https://www.nytimes.com/2024/09/10/us/politics/trump-debate-immigrants-pets.html\"}', 'name': 'scrape_website'}, 'type': 'function', 'index': 6}, {'id': 'call_2yBoDQpk0n3oDRpUsacP0Zmb', 'function': {'arguments': '{\"url\": \"https://www.bbc.com/news/articles/cgjv3gdxv7go\"}', 'name': 'scrape_website'}, 'type': 'function', 'index': 7}, {'id': 'call_lmJeXQ5vd9FWuHT6YOXLnlSs', 'function': {'arguments': '{\"url\": \"https://www.washingtonpost.com/politics/2024/09/10/trump-immigrants-eating-dogs-springfield-ohio-fact-check/\"}', 'name': 'scrape_website'}, 'type': 'function', 'index': 8}], 'refusal': None}, 'response_metadata': {'token_usage': {'completion_tokens': 462, 'prompt_tokens': 2206, 'total_tokens': 2668, 'completion_tokens_details': None}, 'model_name': 'openai/gpt-4o-mini-2024-07-18', 'system_fingerprint': 'fp_1bb46167f9', 'finish_reason': 'tool_calls', 'logprobs': None}, 'example': False, 'invalid_tool_calls': [], 'usage_metadata': {'input_tokens': 2206, 'output_tokens': 462, 'total_tokens': 2668}} response_metadata={} id='run-87a9e12f-d524-4b92-a9a0-b30635667b81-0' tool_calls=[{'name': 'scrape_website', 'args': {'url': 'https://www.newsweek.com/donald-trump-cats-dogs-claim-debate-video-fact-check-election-2024-1952779'}, 'id': 'call_ibWlBjqVbaG8IK4OiTSY2r93', 'type': 'tool_call'}, {'name': 'scrape_website', 'args': {'url': 'https://news.yahoo.com/news/truth-springfield-ohio-immigrants-eating-182913769.html'}, 'id': 'call_SSzrpxxSiQ1GKCgxcSJ7F3n8', 'type': 'tool_call'}, {'name': 'scrape_website', 'args': {'url': 'https://www.economist.com/the-economist-explains/2024/09/11/donald-trump-says-immigrants-are-eating-springfields-pets-what'}, 'id': 'call_CbCqjwigK5n7zVUeprZwK53Z', 'type': 'tool_call'}, {'name': 'scrape_website', 'args': {'url': 'https://www.dispatch.com/story/news/2024/09/11/truth-fact-check-people-eating-dogs-springfield-ohio-trump-vance-harris-debate/75171964007/'}, 'id': 'call_9eCcFcLqJV9tvvNYZ4l2tyYJ', 'type': 'tool_call'}, {'name': 'scrape_website', 'args': {'url': 'https://www.usatoday.com/story/news/politics/elections/2024/09/11/canton-woman-accused-of-eating-cat-not-haitian-from-springfield-ohio/75183732007/'}, 'id': 'call_sxMM6bXiTAXSTUlx9Ckm9fU5', 'type': 'tool_call'}, {'name': 'scrape_website', 'args': {'url': 'https://www.politifact.com/factchecks/2024/sep/11/donald-trump/trump-repeats-baseless-claims-that-haitian-immigra/'}, 'id': 'call_oXG6oszrhELHLAb6OWsLbUGM', 'type': 'tool_call'}, {'name': 'scrape_website', 'args': {'url': 'https://www.nytimes.com/2024/09/10/us/politics/trump-debate-immigrants-pets.html'}, 'id': 'call_rMsMJSZSfTcWMruAmKdqapYz', 'type': 'tool_call'}, {'name': 'scrape_website', 'args': {'url': 'https://www.bbc.com/news/articles/cgjv3gdxv7go'}, 'id': 'call_2yBoDQpk0n3oDRpUsacP0Zmb', 'type': 'tool_call'}, {'name': 'scrape_website', 'args': {'url': 'https://www.washingtonpost.com/politics/2024/09/10/trump-immigrants-eating-dogs-springfield-ohio-fact-check/'}, 'id': 'call_lmJeXQ5vd9FWuHT6YOXLnlSs', 'type': 'tool_call'}]\n",
      "=========================\n",
      "content='Here are the key points extracted from the Washington Post article titled \"Trump pushes false claims about migrants eating dogs in Springfield, Ohio\":\\n\\n### Article Overview\\n- **Title**: Trump pushes false claims about migrants eating dogs in Springfield, Ohio\\n- **Authors**: Amy B Wang, Mariana Alfaro\\n- **Publication Date**: September 11, 2024\\n- **Last Updated**: September 12, 2024\\n- **URL**: [Washington Post Article](https://www.washingtonpost.com/politics/2024/09/10/trump-immigrants-eating-dogs-springfield-ohio-fact-check/)\\n- **Section**: Politics\\n- **Word Count**: 1,045\\n\\n### Content Summary\\n- The article fact-checks claims made by Donald Trump regarding immigrants in Springfield, Ohio, allegedly stealing and consuming pets.\\n- It emphasizes that these claims are baseless and dehumanizing, reinforcing negative stereotypes about immigrants.\\n\\n### Key Details\\n- **Claim Supported**: The article supports the claim that Trump\\'s assertions about migrants eating dogs are false.\\n- **Trustworthy Source**: The Washington Post is generally regarded as a reputable news source, contributing to its high trustworthiness score.\\n\\n### Metadata\\n- **Description**: The article discusses Trump\\'s remarks on a debate stage where he reiterated unfounded and offensive claims about immigrants.\\n- **Image**: The article includes a relevant image, which likely depicts related content or themes.\\n\\n### Additional Information\\n- The article is part of the Washington Post\\'s metered content, meaning it may require a subscription for full access.\\n- It provides a critical perspective on political rhetoric and its implications for public perception of immigrants.\\n\\nThese notes summarize the content and context of the article, highlighting its focus on fact-checking and the implications of political discourse.' name='scrape_website' id='e6f0a6fa-3f46-4267-ab6f-1f6b72df2ceb' tool_call_id='call_lmJeXQ5vd9FWuHT6YOXLnlSs'\n",
      "=========================\n",
      "content='' additional_kwargs={'additional_kwargs': {'tool_calls': [{'id': 'call_DuEuu5IGA1lRsd5S5KXukJdR', 'function': {'arguments': '{\"references\":[{\"url\":\"https://news.yahoo.com/news/truth-springfield-ohio-immigrants-eating-182913769.html\",\"title\":\"The truth about Springfield, Ohio: Are immigrants eating dogs as Trump says? What to know\",\"support_claim\":false,\"news_source_trustworthy_score\":0.8},{\"url\":\"https://www.economist.com/the-economist-explains/2024/09/11/donald-trump-says-immigrants-are-eating-springfields-pets-what\",\"title\":\"Donald Trump says immigrants are eating Springfield’s pets. What?\",\"support_claim\":false,\"news_source_trustworthy_score\":0.9},{\"url\":\"https://www.dispatch.com/story/news/2024/09/11/truth-fact-check-people-eating-dogs-springfield-ohio-trump-vance-harris-debate/75171964007/\",\"title\":\"Fact check: Are people eating dogs in Springfield, Ohio, as Trump says?\",\"support_claim\":false,\"news_source_trustworthy_score\":0.7},{\"url\":\"https://www.usatoday.com/story/news/politics/elections/2024/09/11/canton-woman-accused-of-eating-cat-not-haitian-from-springfield-ohio/75183732007/\",\"title\":\"Ohio woman accused of killing, eating cat is American, not Haitian\",\"support_claim\":false,\"news_source_trustworthy_score\":0.8},{\"url\":\"https://www.politifact.com/factchecks/2024/sep/11/donald-trump/trump-repeats-baseless-claims-that-haitian-immigra/\",\"title\":\"Trump repeats baseless claims that Haitian immigrants in Springfield, Ohio, are eating pets\",\"support_claim\":false,\"news_source_trustworthy_score\":0.9},{\"url\":\"https://www.nytimes.com/2024/09/10/us/politics/trump-debate-immigrants-pets.html\",\"title\":\"Trump repeats false and outlandish claim that Haitian immigrants are eating pets\",\"support_claim\":false,\"news_source_trustworthy_score\":0.9},{\"url\":\"https://www.bbc.com/news/articles/cgjv3gdxv7go\",\"title\":\"Key claims from the Trump-Harris debate fact-checked\",\"support_claim\":false,\"news_source_trustworthy_score\":0.9},{\"url\":\"https://www.washingtonpost.com/politics/2024/09/10/trump-immigrants-eating-dogs-springfield-ohio-fact-check/\",\"title\":\"Trump pushes false claims about migrants eating dogs in Springfield, Ohio\",\"support_claim\":false,\"news_source_trustworthy_score\":0.9}],\"factualness_score\":0}', 'name': 'Info'}, 'type': 'function', 'index': 0}], 'refusal': None}, 'response_metadata': {'token_usage': {'completion_tokens': 588, 'prompt_tokens': 6199, 'total_tokens': 6787, 'completion_tokens_details': None}, 'model_name': 'openai/gpt-4o-mini-2024-07-18', 'system_fingerprint': 'fp_1bb46167f9', 'finish_reason': 'tool_calls', 'logprobs': None}, 'example': False, 'invalid_tool_calls': [], 'usage_metadata': {'input_tokens': 6199, 'output_tokens': 588, 'total_tokens': 6787}} response_metadata={} id='run-fb6fe71d-2252-4d6f-a589-39e269716e17-0' tool_calls=[{'name': 'Info', 'args': {'references': [{'url': 'https://news.yahoo.com/news/truth-springfield-ohio-immigrants-eating-182913769.html', 'title': 'The truth about Springfield, Ohio: Are immigrants eating dogs as Trump says? What to know', 'support_claim': False, 'news_source_trustworthy_score': 0.8}, {'url': 'https://www.economist.com/the-economist-explains/2024/09/11/donald-trump-says-immigrants-are-eating-springfields-pets-what', 'title': 'Donald Trump says immigrants are eating Springfield’s pets. What?', 'support_claim': False, 'news_source_trustworthy_score': 0.9}, {'url': 'https://www.dispatch.com/story/news/2024/09/11/truth-fact-check-people-eating-dogs-springfield-ohio-trump-vance-harris-debate/75171964007/', 'title': 'Fact check: Are people eating dogs in Springfield, Ohio, as Trump says?', 'support_claim': False, 'news_source_trustworthy_score': 0.7}, {'url': 'https://www.usatoday.com/story/news/politics/elections/2024/09/11/canton-woman-accused-of-eating-cat-not-haitian-from-springfield-ohio/75183732007/', 'title': 'Ohio woman accused of killing, eating cat is American, not Haitian', 'support_claim': False, 'news_source_trustworthy_score': 0.8}, {'url': 'https://www.politifact.com/factchecks/2024/sep/11/donald-trump/trump-repeats-baseless-claims-that-haitian-immigra/', 'title': 'Trump repeats baseless claims that Haitian immigrants in Springfield, Ohio, are eating pets', 'support_claim': False, 'news_source_trustworthy_score': 0.9}, {'url': 'https://www.nytimes.com/2024/09/10/us/politics/trump-debate-immigrants-pets.html', 'title': 'Trump repeats false and outlandish claim that Haitian immigrants are eating pets', 'support_claim': False, 'news_source_trustworthy_score': 0.9}, {'url': 'https://www.bbc.com/news/articles/cgjv3gdxv7go', 'title': 'Key claims from the Trump-Harris debate fact-checked', 'support_claim': False, 'news_source_trustworthy_score': 0.9}, {'url': 'https://www.washingtonpost.com/politics/2024/09/10/trump-immigrants-eating-dogs-springfield-ohio-fact-check/', 'title': 'Trump pushes false claims about migrants eating dogs in Springfield, Ohio', 'support_claim': False, 'news_source_trustworthy_score': 0.9}], 'factualness_score': 0}, 'id': 'call_DuEuu5IGA1lRsd5S5KXukJdR', 'type': 'tool_call'}]\n",
      "=========================\n",
      "content=\"The provided references all indicate that the claims made by Trump regarding immigrants eating pets in Springfield, Ohio, are false, thereby aligning with the user's request for fact-checking the claim.\\nThe sources included are generally considered trustworthy, with scores between 0.7 and 0.9, which reinforces the credibility of the information presented.\\nThe information is comprehensive, covering multiple reputable sources that provide a consistent narrative debunking the claim.\" name='Info' id='88739f51-84e0-40ed-88fd-efe06cb29120' tool_call_id='call_DuEuu5IGA1lRsd5S5KXukJdR'\n",
      "=========================\n"
     ]
    }
   ],
   "source": [
    "from langchain_core.messages import convert_to_messages\n",
    "\n",
    "# Thread\n",
    "thread = await client.threads.create()\n",
    "\n",
    "# Model\n",
    "#llm = \"anthropic/claude-3-5-sonnet-20240620\"\n",
    "llm = \"openai/gpt-4o\"\n",
    "\n",
    "# Stream\n",
    "async for event in client.runs.stream(\n",
    "    thread[\"thread_id\"],\n",
    "    assistant_id=\"agent\",\n",
    "    input={\n",
    "        \"topic\": topic,\n",
    "        \"extraction_schema\": schema,\n",
    "        \"configurable\": {\"model_name\": llm},\n",
    "    },\n",
    "    stream_mode=\"values\",\n",
    "):\n",
    "    messages = event.data.get(\"messages\", None)\n",
    "    if messages:\n",
    "        print(convert_to_messages(messages)[-1])\n",
    "    print(\"=\" * 25)"
   ]
  },
  {
   "cell_type": "code",
   "execution_count": 14,
   "metadata": {},
   "outputs": [],
   "source": [
    "current_state = await client.threads.get_state(thread[\"thread_id\"])"
   ]
  },
  {
   "cell_type": "code",
   "execution_count": 15,
   "metadata": {},
   "outputs": [],
   "source": [
    "from IPython.display import Markdown, display\n",
    "\n",
    "\n",
    "# def format_llm_chip_info(data):\n",
    "#     markdown_text = \"# Top 5 Chip Providers for LLM Training\\n\\n\"\n",
    "\n",
    "#     for company in data[\"companies\"]:\n",
    "#         markdown_text += f\"\"\"\n",
    "# ## {company['name']}\n",
    "\n",
    "# **Key Technologies:** {company['technologies']}\n",
    "\n",
    "# **Market Share:** {company['market_share']}\n",
    "\n",
    "# **Key Powers:** {company.get('key_powers', 'Not specified')}\n",
    "\n",
    "# **Future Outlook:** {company['future_outlook']}\n",
    "\n",
    "# ---\n",
    "# \"\"\"\n",
    "\n",
    "#     return Markdown(markdown_text)\n",
    "\n",
    "\n",
    "# # Display the formatted markdown\n",
    "# display(format_llm_chip_info(current_state[\"values\"][\"info\"]))"
   ]
  },
  {
   "cell_type": "code",
   "execution_count": 16,
   "metadata": {},
   "outputs": [
    {
     "data": {
      "text/plain": [
       "{'references': [{'url': 'https://news.yahoo.com/news/truth-springfield-ohio-immigrants-eating-182913769.html',\n",
       "   'title': 'The truth about Springfield, Ohio: Are immigrants eating dogs as Trump says? What to know',\n",
       "   'support_claim': False,\n",
       "   'news_source_trustworthy_score': 0.8},\n",
       "  {'url': 'https://www.economist.com/the-economist-explains/2024/09/11/donald-trump-says-immigrants-are-eating-springfields-pets-what',\n",
       "   'title': 'Donald Trump says immigrants are eating Springfield’s pets. What?',\n",
       "   'support_claim': False,\n",
       "   'news_source_trustworthy_score': 0.9},\n",
       "  {'url': 'https://www.dispatch.com/story/news/2024/09/11/truth-fact-check-people-eating-dogs-springfield-ohio-trump-vance-harris-debate/75171964007/',\n",
       "   'title': 'Fact check: Are people eating dogs in Springfield, Ohio, as Trump says?',\n",
       "   'support_claim': False,\n",
       "   'news_source_trustworthy_score': 0.7},\n",
       "  {'url': 'https://www.usatoday.com/story/news/politics/elections/2024/09/11/canton-woman-accused-of-eating-cat-not-haitian-from-springfield-ohio/75183732007/',\n",
       "   'title': 'Ohio woman accused of killing, eating cat is American, not Haitian',\n",
       "   'support_claim': False,\n",
       "   'news_source_trustworthy_score': 0.8},\n",
       "  {'url': 'https://www.politifact.com/factchecks/2024/sep/11/donald-trump/trump-repeats-baseless-claims-that-haitian-immigra/',\n",
       "   'title': 'Trump repeats baseless claims that Haitian immigrants in Springfield, Ohio, are eating pets',\n",
       "   'support_claim': False,\n",
       "   'news_source_trustworthy_score': 0.9},\n",
       "  {'url': 'https://www.nytimes.com/2024/09/10/us/politics/trump-debate-immigrants-pets.html',\n",
       "   'title': 'Trump repeats false and outlandish claim that Haitian immigrants are eating pets',\n",
       "   'support_claim': False,\n",
       "   'news_source_trustworthy_score': 0.9},\n",
       "  {'url': 'https://www.bbc.com/news/articles/cgjv3gdxv7go',\n",
       "   'title': 'Key claims from the Trump-Harris debate fact-checked',\n",
       "   'support_claim': False,\n",
       "   'news_source_trustworthy_score': 0.9},\n",
       "  {'url': 'https://www.washingtonpost.com/politics/2024/09/10/trump-immigrants-eating-dogs-springfield-ohio-fact-check/',\n",
       "   'title': 'Trump pushes false claims about migrants eating dogs in Springfield, Ohio',\n",
       "   'support_claim': False,\n",
       "   'news_source_trustworthy_score': 0.9}],\n",
       " 'factualness_score': 0}"
      ]
     },
     "execution_count": 16,
     "metadata": {},
     "output_type": "execute_result"
    }
   ],
   "source": [
    "current_state[\"values\"][\"info\"]"
   ]
  },
  {
   "cell_type": "code",
   "execution_count": null,
   "metadata": {},
   "outputs": [],
   "source": []
  }
 ],
 "metadata": {
  "kernelspec": {
   "display_name": "venv",
   "language": "python",
   "name": "python3"
  },
  "language_info": {
   "codemirror_mode": {
    "name": "ipython",
    "version": 3
   },
   "file_extension": ".py",
   "mimetype": "text/x-python",
   "name": "python",
   "nbconvert_exporter": "python",
   "pygments_lexer": "ipython3",
   "version": "3.10.13"
  }
 },
 "nbformat": 4,
 "nbformat_minor": 2
}
