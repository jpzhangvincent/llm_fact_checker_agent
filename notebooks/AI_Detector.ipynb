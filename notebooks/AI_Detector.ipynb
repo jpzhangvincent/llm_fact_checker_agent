{
 "cells": [
  {
   "cell_type": "code",
   "execution_count": 1,
   "metadata": {},
   "outputs": [],
   "source": [
    "# !pip install -q copyleaks"
   ]
  },
  {
   "cell_type": "code",
   "execution_count": 11,
   "metadata": {},
   "outputs": [],
   "source": [
    "\n",
    "\n",
    "import base64\n",
    "import random\n",
    "from copyleaks.copyleaks import Copyleaks\n",
    "from copyleaks.exceptions.command_error import CommandError\n",
    "from copyleaks.models.submit.ai_detection_document import NaturalLanguageDocument, SourceCodeDocument\n",
    "from copyleaks.models.submit.document import FileDocument, UrlDocument, OcrFileDocument\n",
    "from copyleaks.models.submit.properties.scan_properties import ScanProperties\n",
    "from copyleaks.models.export import *\n",
    "from copyleaks.models.submit.score_weights import ScoreWeights\n",
    "from copyleaks.models.submit.writing_assistant_document import WritingAssistantDocument\n",
    "# Register on https://api.copyleaks.com and grab your secret key (from the dashboard page).\n"
   ]
  },
  {
   "cell_type": "code",
   "execution_count": 12,
   "metadata": {},
   "outputs": [],
   "source": [
    "\n",
    "EMAIL_ADDRESS = 'liviaellen@msn.com'\n",
    "KEY = '68f00127-8e08-48ef-9e41-7f55668a99d3'\n"
   ]
  },
  {
   "cell_type": "code",
   "execution_count": 13,
   "metadata": {},
   "outputs": [
    {
     "name": "stdout",
     "output_type": "stream",
     "text": [
      "Logged successfully!\n",
      "Token:\n",
      "{'access_token': '98F183EA3E227BD640159EC9222021C7BCC20849A617B54E790B0CC70017AE9F', '.issued': '2024-09-22T00:06:48.2735295Z', '.expires': '2024-09-24T00:06:48.2735296Z'}\n"
     ]
    }
   ],
   "source": [
    "\n",
    "try:\n",
    "    auth_token = Copyleaks.login(EMAIL_ADDRESS, KEY)\n",
    "except CommandError as ce:\n",
    "    response = ce.get_response()\n",
    "    print(f\"An error occurred (HTTP status code {response.status_code}):\")\n",
    "    print(response.content)\n",
    "    exit(1)\n",
    "\n",
    "print(\"Logged successfully!\\nToken:\")\n",
    "print(auth_token)\n"
   ]
  },
  {
   "cell_type": "code",
   "execution_count": 5,
   "metadata": {},
   "outputs": [
    {
     "name": "stdout",
     "output_type": "stream",
     "text": [
      "Submitting a new file...\n",
      "Send to scanning\n",
      "You will notify, using your webhook, once the scan was completed.\n"
     ]
    }
   ],
   "source": [
    "\n",
    "# This example is going to scan a FILE for plagiarism.\n",
    "# Alternatively, you can scan a URL using the class `UrlDocument`.\n",
    "\n",
    "print(\"Submitting a new file...\")\n",
    "BASE64_FILE_CONTENT = base64.b64encode(b'Hello world').decode('utf8')  # or read your file and convert it into BASE64 presentation.\n",
    "FILENAME = \"hello.txt\"\n",
    "scan_id = random.randint(100, 100000)  # generate a random scan id\n",
    "file_submission = FileDocument(BASE64_FILE_CONTENT, FILENAME)\n",
    "# Once the scan completed on Copyleaks servers, we will trigger a webhook that notify you.\n",
    "# Write your public endpoint server address. If you testing it locally, make sure that this endpoint\n",
    "# is publicly available.\n",
    "scan_properties = ScanProperties('https://your.server/webhook?event={{STATUS}}')\n",
    "scan_properties.set_sandbox(True)  # Turn on sandbox mode. Turn off on production.\n",
    "file_submission.set_properties(scan_properties)\n",
    "Copyleaks.submit_file(auth_token, scan_id, file_submission)  # sending the submission to scanning\n",
    "print(\"Send to scanning\")\n",
    "print(\"You will notify, using your webhook, once the scan was completed.\")\n"
   ]
  },
  {
   "cell_type": "code",
   "execution_count": 6,
   "metadata": {},
   "outputs": [
    {
     "name": "stdout",
     "output_type": "stream",
     "text": [
      "{'scanType': 'sandbox', 'modelVersion': 'v4', 'results': [{'classification': 2, 'probability': 0.9714061, 'matches': [{'text': {'chars': {'starts': [0], 'lengths': [1557]}, 'words': {'starts': [0], 'lengths': [271]}}}]}, {'classification': 1, 'probability': 0.006316364, 'matches': [{'text': {'chars': {'starts': [1557], 'lengths': [135]}, 'words': {'starts': [271], 'lengths': [27]}}}]}, {'classification': 2, 'probability': 0.32940686, 'matches': [{'text': {'chars': {'starts': [1692], 'lengths': [87]}, 'words': {'starts': [298], 'lengths': [17]}}}]}, {'classification': 1, 'probability': 0.9098962, 'matches': [{'text': {'chars': {'starts': [1779], 'lengths': [532]}, 'words': {'starts': [315], 'lengths': [85]}}}]}], 'summary': {'human': 0.28, 'ai': 0.72}, 'scannedDocument': {'scanId': 'example-id', 'totalWords': 400, 'totalExcluded': 0, 'actualCredits': 0, 'expectedCredits': 1, 'creationTime': '2023-03-08T11:40:03.0232297Z'}}\n"
     ]
    }
   ],
   "source": [
    "\n",
    "# This example is going to use the AI detector client to detect ai in text\n",
    "sample_text = \"Lions are social animals, living in groups called prides, typically consisting of several females, their offspring, and a few males. Female lions are the primary hunters, working together to catch prey. Lions are known for their strength, teamwork, and complex social structures.\"\n",
    "natural_language_submission = NaturalLanguageDocument(sample_text)\n",
    "natural_language_submission.set_sandbox(True)\n",
    "response = Copyleaks.AiDetectionClient.submit_natural_language(auth_token, scan_id, natural_language_submission)\n",
    "print(response)\n"
   ]
  },
  {
   "cell_type": "code",
   "execution_count": 7,
   "metadata": {},
   "outputs": [
    {
     "name": "stdout",
     "output_type": "stream",
     "text": [
      "{'scanType': 'sandbox', 'modelVersion': 'v4', 'results': [{'classification': 2, 'probability': 0.9714061, 'matches': [{'text': {'chars': {'starts': [0], 'lengths': [1557]}, 'words': {'starts': [0], 'lengths': [271]}}}]}, {'classification': 1, 'probability': 0.006316364, 'matches': [{'text': {'chars': {'starts': [1557], 'lengths': [135]}, 'words': {'starts': [271], 'lengths': [27]}}}]}, {'classification': 2, 'probability': 0.32940686, 'matches': [{'text': {'chars': {'starts': [1692], 'lengths': [87]}, 'words': {'starts': [298], 'lengths': [17]}}}]}, {'classification': 1, 'probability': 0.9098962, 'matches': [{'text': {'chars': {'starts': [1779], 'lengths': [532]}, 'words': {'starts': [315], 'lengths': [85]}}}]}], 'summary': {'human': 0.28, 'ai': 0.72}, 'scannedDocument': {'scanId': 'example-id', 'totalWords': 400, 'totalExcluded': 0, 'actualCredits': 0, 'expectedCredits': 1, 'creationTime': '2023-03-08T11:40:03.0232297Z'}}\n"
     ]
    }
   ],
   "source": [
    "\n",
    "\n",
    "# This example is going to use the AI detector client to detect ai in source code\n",
    "sample_code = (\n",
    "    \"def add(a, b):\\n\"\n",
    "    \"    return a + b\\n\"\n",
    "    \"\\n\"\n",
    "    \"def multiply(a, b):\\n\"\n",
    "    \"    return a * b\\n\"\n",
    "    \"\\n\"\n",
    "    \"def main():\\n\"\n",
    "    \"    x = 5\\n\"\n",
    "    \"    y = 10\\n\"\n",
    "    \"    sum_result = add(x, y)\\n\"\n",
    "    \"    product_result = multiply(x, y)\\n\"\n",
    "    \"    print(f'Sum: {sum_result}')\\n\"\n",
    "    \"    print(f'Product: {product_result}')\\n\"\n",
    "    \"\\n\"\n",
    "    \"if __name__ == '__main__':\\n\"\n",
    "    \"    main()\"\n",
    ")\n",
    "source_code_submission = SourceCodeDocument(sample_code, \"example.py\")\n",
    "source_code_submission.set_sandbox(True)\n",
    "response = Copyleaks.AiDetectionClient.submit_natural_language(auth_token, scan_id, source_code_submission)\n",
    "print(response)\n"
   ]
  },
  {
   "cell_type": "code",
   "execution_count": 10,
   "metadata": {},
   "outputs": [
    {
     "name": "stdout",
     "output_type": "stream",
     "text": [
      "{'access_token': '4A5F9C6863EF87AEEB52FCA35F5830CB74B8FC840B980E3D5B97B57A6C09623D', '.issued': '2024-09-21T23:44:43.7886617Z', '.expires': '2024-09-23T23:44:43.7886617Z'} 46389 <copyleaks.models.submit.writing_assistant_document.WritingAssistantDocument object at 0x110766ab0>\n",
      "error <Response [400]>\n",
      "skipping writing Assistant\n"
     ]
    }
   ],
   "source": [
    "\n",
    "# This example is going to use the WritingAssistant client to get feedback on text\n",
    "score_weight = ScoreWeights()\n",
    "score_weight.set_grammar_score_weight(0.2)\n",
    "score_weight.set_mechanics_score_weight(0.3)\n",
    "score_weight.set_sentence_structure_score_weight(0.5)\n",
    "score_weight.set_word_choice_score_weight(0.4)\n",
    "submission = WritingAssistantDocument(sample_text)\n",
    "submission.set_score(score_weight)\n",
    "submission.set_sandbox(True)\n",
    "print(auth_token, scan_id, submission)\n",
    "try:\n",
    "    response = Copyleaks.WritingAssistantClient.submit_text(auth_token, scan_id, submission)\n",
    "    print(response)\n",
    "except Exception as E:\n",
    "    print('error', E)\n",
    "    print(\"skipping writing Assistant\")\n"
   ]
  },
  {
   "cell_type": "code",
   "execution_count": null,
   "metadata": {},
   "outputs": [],
   "source": []
  },
  {
   "cell_type": "code",
   "execution_count": 9,
   "metadata": {},
   "outputs": [],
   "source": [
    "\n",
    "# # Wait for completion webhook arrival...\n",
    "# # Read more: https://api.copyleaks.com/documentation/v3/webhooks\n",
    "# # Uncomment the following code to create an export task:\n",
    "# # # Once the webhooks arrived and the scan was completed successfully (see the `status` flag) you can\n",
    "# # # proceed to exporting all the artifacts related to your scan.\n",
    "# export = Export()\n",
    "# export.set_completion_webhook('https://your.server/webhook/export/completion')\n",
    "# crawled = ExportCrawledVersion()  # Uncomment if you want to download the crawled version of your submitted document.\n",
    "# crawled.set_endpoint('https://your.server/webhook/export/crawled')\n",
    "# crawled.set_verb('POST')\n",
    "# crawled.set_headers([['key', 'value'], ['key2', 'value2']])  # optional\n",
    "# export.set_crawled_version(crawled)\n",
    "\n",
    "# # # For each of the results in the Completed Webhook, you will get a unique `id`.\n",
    "# # # In the following example we will export 2 results from Copyleaks's servers:\n",
    "# results1 = ExportResult()\n",
    "# results1.set_id('2b42c39fba')  # change with your result id\n",
    "# results1.set_endpoint('https://your.server/webhook/export/result/2b42c39fba')\n",
    "# results1.set_verb('POST')\n",
    "# results1.set_headers([['key', 'value'], ['key2', 'value2']])\n",
    "\n",
    "# results2 = ExportResult()\n",
    "# results2.set_id('08338e505d')  # change with your result id\n",
    "# results2.set_endpoint('https://your.server/webhook/export/result/08338e505d')\n",
    "# results2.set_verb('POST')\n",
    "# results2.set_headers([['key', 'value'], ['key2', 'value2']])\n",
    "\n",
    "# export.set_results([results1, results2])\n",
    "\n",
    "# Copyleaks.export(auth_token, scan_id, 'export-id', export)  # 'export-id' value determind by you.\n",
    "\n",
    "# # Wait while Copyleaks servers exporting artifacts...\n",
    "# # Once process completed, you will get the \"Export Completed\" webhook.\n",
    "# # Read more: https://api.copyleaks.com/documentation/v3/webhooks/export-completed\n",
    "\n",
    "# # # For Repositories:\n",
    "# repo = SearchRepository()\n",
    "# repo.set_include_my_submissions(True)\n",
    "# repo.set_include_others_submissions(True)\n",
    "# repo.set_id(\"ID_FETCHED_DASHBOARD\")\n",
    "# scan_properties.set_scanning(Scanning().set_repositories(repo))\n",
    "\n",
    "# # # generate a pdf report:\n",
    "# pdf = Pdf() # Creating instance of Pdf.\n",
    "# pdf.set_create(True) # Setting the create pdf to True to generate PDF report.\n",
    "# scan_properties.set_pdf(pdf) # Will generate PDF report.\n"
   ]
  },
  {
   "cell_type": "code",
   "execution_count": null,
   "metadata": {},
   "outputs": [],
   "source": []
  },
  {
   "cell_type": "code",
   "execution_count": null,
   "metadata": {},
   "outputs": [],
   "source": []
  },
  {
   "cell_type": "code",
   "execution_count": null,
   "metadata": {},
   "outputs": [],
   "source": []
  },
  {
   "cell_type": "code",
   "execution_count": null,
   "metadata": {},
   "outputs": [],
   "source": []
  }
 ],
 "metadata": {
  "kernelspec": {
   "display_name": "Python 3 (ipykernel)",
   "language": "python",
   "name": "python3"
  },
  "language_info": {
   "codemirror_mode": {
    "name": "ipython",
    "version": 3
   },
   "file_extension": ".py",
   "mimetype": "text/x-python",
   "name": "python",
   "nbconvert_exporter": "python",
   "pygments_lexer": "ipython3",
   "version": "3.12.2"
  }
 },
 "nbformat": 4,
 "nbformat_minor": 4
}
